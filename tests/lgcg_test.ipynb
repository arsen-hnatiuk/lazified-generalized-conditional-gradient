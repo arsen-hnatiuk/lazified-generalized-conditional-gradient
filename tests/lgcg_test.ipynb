{
 "cells": [
  {
   "cell_type": "code",
   "execution_count": 1,
   "metadata": {},
   "outputs": [],
   "source": [
    "import numpy as np\n",
    "import os\n",
    "import sys\n",
    "module_path = os.path.abspath(os.path.join('..'))\n",
    "if module_path not in sys.path:\n",
    "    sys.path.append(module_path)\n",
    "lgcg_path = os.path.abspath(os.path.join('../lgcg'))\n",
    "if lgcg_path not in sys.path:\n",
    "    sys.path.append(lgcg_path)\n",
    "from lib.measure import Measure\n",
    "from lgcg_stochastic import LGCG_stochastic\n",
    "from lgcg import LGCG"
   ]
  },
  {
   "cell_type": "markdown",
   "metadata": {},
   "source": [
    "# Generate Data and Define Functions"
   ]
  },
  {
   "cell_type": "code",
   "execution_count": 2,
   "metadata": {},
   "outputs": [],
   "source": [
    "Omega = np.array([[0,1],[0,1]])\n",
    "alpha = 0.1\n",
    "observation_resolution = 5\n",
    "observations = (np.array(np.meshgrid(\n",
    "                    *(\n",
    "                        np.linspace(bound[0], bound[1], observation_resolution)\n",
    "                        for bound in Omega\n",
    "                    ))\n",
    "            ).reshape(len(Omega), -1).T)\n",
    "std_factor = 4\n",
    "k = lambda x: np.array([np.exp(-np.linalg.norm(point-x)**2/std_factor)/np.sqrt(std_factor*np.pi)**Omega.shape[0] for point in observations])\n",
    "true_sources = np.array([[0.1,0.3], [0.25,0.8], [0.7,0.5]])\n",
    "true_weights = np.array([5,-3,7])\n",
    "target = sum([weight*k(source) for weight, source in zip(true_weights, true_sources)])\n",
    "target = target/np.linalg.norm(target)\n",
    "norm_K_star = np.sqrt(len(observations)/(std_factor*np.pi)**Omega.shape[0])\n",
    "norm_K_star_L = np.sqrt(0.5*std_factor*len(observations)/(np.pi*std_factor)**Omega.shape[0])"
   ]
  },
  {
   "cell_type": "code",
   "execution_count": 3,
   "metadata": {},
   "outputs": [],
   "source": [
    "g = lambda u: alpha * np.linalg.norm(u, ord=1)\n",
    "f = lambda u: 0.5 * np.linalg.norm(sum(c * k(x) for x, c in zip(u.support, u.coefficients)) - target) ** 2"
   ]
  },
  {
   "cell_type": "code",
   "execution_count": 4,
   "metadata": {},
   "outputs": [],
   "source": [
    "def p_raw(u, k, target):\n",
    "    def p_u(x):\n",
    "        Ku = sum(k(x)*c for c, x in zip(u.coefficients, u.support))\n",
    "        inner = Ku-target\n",
    "        return -np.dot(inner, k(x))\n",
    "    return p_u\n",
    "\n",
    "p = lambda u: p_raw(u, k=k, target=target)"
   ]
  },
  {
   "cell_type": "code",
   "execution_count": 5,
   "metadata": {},
   "outputs": [],
   "source": [
    "def grad_k_raw(observations, std_factor):\n",
    "    def grad_k(x):\n",
    "        return np.array([2*(point-x)*np.exp(-np.linalg.norm(point-x)**2/std_factor)/(std_factor*np.sqrt(std_factor*np.pi)**Omega.shape[0]) for point in observations])\n",
    "    return grad_k\n",
    "\n",
    "grad_k = grad_k_raw(observations, std_factor) # The Jacobian of k, shape=(len(observations), Omega.shape[0])"
   ]
  },
  {
   "cell_type": "code",
   "execution_count": 6,
   "metadata": {},
   "outputs": [],
   "source": [
    "def hess_k_raw(observations, std_factor):\n",
    "    def hess_k(x):\n",
    "        first_part = lambda point: -2*np.eye(Omega.shape[0])*np.exp(-np.linalg.norm(point-x)**2/std_factor)/(std_factor*np.sqrt(std_factor*np.pi)**Omega.shape[0])\n",
    "        second_part = lambda point: 4*np.dot((point-x).reshape(-1,1), np.array([point-x]))*np.exp(-np.linalg.norm(point-x)**2/std_factor)/(std_factor**2*np.sqrt(std_factor*np.pi)**Omega.shape[0])\n",
    "        return np.array([first_part(point)+second_part(point) for point in observations])\n",
    "    return hess_k\n",
    "\n",
    "hess_k = hess_k_raw(observations, std_factor) # The derivative of the Jacobian of k, shape=(len(observations), Omega.shape[0], Omega.shape[0])"
   ]
  },
  {
   "cell_type": "code",
   "execution_count": 7,
   "metadata": {},
   "outputs": [],
   "source": [
    "def grad_P_raw(k, target, observations, std_factor):\n",
    "    grad_k = grad_k_raw(observations, std_factor)\n",
    "    def grad_P(x,u):\n",
    "        p_u = p_raw(u, k, target)\n",
    "        inner = target-sum(k(x)*c for c, x in zip(u.coefficients, u.support))\n",
    "        return np.sign(p_u(x))*np.matmul(grad_k(x).T, inner)\n",
    "    return grad_P\n",
    "\n",
    "grad_P = grad_P_raw(k, target, observations, std_factor)"
   ]
  },
  {
   "cell_type": "code",
   "execution_count": 8,
   "metadata": {},
   "outputs": [],
   "source": [
    "def hess_P_raw(k, target, observations, std_factor):\n",
    "    hess_k = hess_k_raw(observations, std_factor)\n",
    "    def hess_P(x,u):\n",
    "        p_u = p_raw(u, k, target)\n",
    "        inner = target-sum(k(x)*c for c, x in zip(u.coefficients, u.support))\n",
    "        return np.sign(p_u(x))*np.tensordot(hess_k(x),inner,axes=([0,0]))\n",
    "    return hess_P\n",
    "\n",
    "hess_P = hess_P_raw(k, target, observations, std_factor)"
   ]
  },
  {
   "cell_type": "code",
   "execution_count": 9,
   "metadata": {},
   "outputs": [],
   "source": [
    "def get_grad_j(k, grad_k, alpha, target):\n",
    "    def grad_j(positions, coefs):\n",
    "        to_return = []\n",
    "        grad_F = (\n",
    "            np.sum(\n",
    "                np.array([c * k(x) for x, c in zip(positions, coefs)]),\n",
    "                axis=0,\n",
    "            )\n",
    "            - target\n",
    "        )\n",
    "        for ind, x in enumerate(positions):\n",
    "            # nabla_x_ind\n",
    "            array = coefs[ind] * np.matmul(grad_k(x).T, grad_F)\n",
    "            to_return += array.tolist()\n",
    "        # nabla_u\n",
    "        K = np.array([k(x) for x in positions])\n",
    "        to_return += (np.dot(K, grad_F) + alpha * np.sign(coefs)).tolist()\n",
    "        return np.array(to_return)\n",
    "    return grad_j\n",
    "\n",
    "grad_j = get_grad_j(k, grad_k, alpha, target)"
   ]
  },
  {
   "cell_type": "code",
   "execution_count": 10,
   "metadata": {},
   "outputs": [],
   "source": [
    "def get_hess_j(k, grad_k, hess_k, target):\n",
    "    def hess_j(positions, coefs):\n",
    "        matrix_dimension = len(positions)*Omega.shape[0] + len(coefs)\n",
    "        hesse_matrix = np.zeros((matrix_dimension, matrix_dimension))\n",
    "        step = Omega.shape[0]\n",
    "        coefs_delay = step*len(positions)\n",
    "        inner = sum(k(x)*c for c, x in zip(coefs, positions))-target\n",
    "        for i, position in enumerate(positions):\n",
    "            # nabla_{x_i,x_j}\n",
    "            for j, other_position in enumerate(positions):\n",
    "                if j<i:\n",
    "                    continue\n",
    "                block = coefs[i]*coefs[j]*np.matmul(grad_k(position).T, grad_k(other_position))\n",
    "                if i==j:\n",
    "                    block += coefs[i]*np.tensordot(hess_k(position),inner,axes=([0,0]))\n",
    "                hesse_matrix[i*step:(i+1)*step, j*step:(j+1)*step] = block\n",
    "                hesse_matrix[j*step:(j+1)*step, i*step:(i+1)*step] = block.T\n",
    "            # nabla_{x_i,u_j}\n",
    "            for j, coef in enumerate(coefs):\n",
    "                block = coefs[i]*np.matmul(grad_k(position).T, k(positions[j]))\n",
    "                if i == j:\n",
    "                    block += np.matmul(grad_k(position).T, inner)\n",
    "                hesse_matrix[i*step:(i+1)*step, coefs_delay+j] = block\n",
    "                hesse_matrix[coefs_delay+j, i*step:(i+1)*step] = block.T\n",
    "        for i, coef in enumerate(coefs):\n",
    "            # nabla_{u_i,u_j}\n",
    "            for j, other_coef in enumerate(coefs):\n",
    "                if j<i:\n",
    "                    continue\n",
    "                block = np.dot(k(positions[i]), k(positions[j]))\n",
    "                hesse_matrix[coefs_delay+i,coefs_delay+j] = block\n",
    "                hesse_matrix[coefs_delay+j,coefs_delay+i] = block\n",
    "        return hesse_matrix\n",
    "    return hess_j\n",
    "\n",
    "hess_j = get_hess_j(k, grad_k, hess_k, target)"
   ]
  },
  {
   "cell_type": "markdown",
   "metadata": {},
   "source": [
    "# Test LGCG"
   ]
  },
  {
   "cell_type": "code",
   "execution_count": 11,
   "metadata": {},
   "outputs": [],
   "source": [
    "exp = LGCG(target=target, \n",
    "           k=k, \n",
    "           g=g, \n",
    "           f=f,\n",
    "           p=p,\n",
    "           grad_P=grad_P, \n",
    "           norm_K_star=norm_K_star,\n",
    "           norm_K_star_L=norm_K_star_L,\n",
    "           grad_j=grad_j,\n",
    "           hess_j=hess_j,\n",
    "           alpha=alpha,\n",
    "           Omega=Omega,\n",
    "           )"
   ]
  },
  {
   "cell_type": "code",
   "execution_count": 14,
   "metadata": {},
   "outputs": [
    {
     "name": "stderr",
     "output_type": "stream",
     "text": [
      "DEBUG:root:SSN in 1 dimensions converged in 5 iterations to tolerance 1.263E-03\n",
      "INFO:root:1: gcg, support: 1, grad_norm:N/A\n",
      "DEBUG:root:SSN in 2 dimensions converged in 0 iterations to tolerance 6.317E-04\n",
      "INFO:root:2: gcg, support: 2, grad_norm:0.005700010102418969\n",
      "DEBUG:root:SSN in 3 dimensions converged in 1 iterations to tolerance 3.158E-04\n",
      "INFO:root:3: gcg, support: 3, grad_norm:0.006672956528635634\n",
      "DEBUG:root:SSN in 3 dimensions converged in 0 iterations to tolerance 1.579E-04\n",
      "INFO:root:4: gcg, support: 3, grad_norm:0.005126414083436322\n",
      "DEBUG:root:SSN in 3 dimensions converged in 1 iterations to tolerance 7.896E-05\n",
      "INFO:root:5: gcg, support: 3, grad_norm:0.0051261737202922784\n",
      "DEBUG:root:SSN in 2 dimensions converged in 0 iterations to tolerance 1.263E-03\n",
      "INFO:root:6: newton, support: 2, grad_norm:0.003917877271316288\n",
      "DEBUG:root:SSN in 3 dimensions converged in 1 iterations to tolerance 3.948E-05\n",
      "INFO:root:7: gcg, support: 3, grad_norm:0.003917872845329079\n",
      "DEBUG:root:SSN in 3 dimensions converged in 1 iterations to tolerance 1.974E-05\n",
      "INFO:root:8: gcg, support: 3, grad_norm:0.0037961355840734753\n",
      "DEBUG:root:SSN in 3 dimensions converged in 0 iterations to tolerance 9.870E-06\n",
      "INFO:root:9: gcg, support: 3, grad_norm:0.004132353674114917\n",
      "DEBUG:root:SSN in 3 dimensions converged in 1 iterations to tolerance 4.935E-06\n",
      "INFO:root:10: gcg, support: 3, grad_norm:0.004132344478230826\n",
      "DEBUG:root:SSN in 3 dimensions converged in 0 iterations to tolerance 2.467E-06\n",
      "INFO:root:11: gcg, support: 3, grad_norm:0.00430602159942704\n",
      "DEBUG:root:SSN in 3 dimensions converged in 0 iterations to tolerance 1.234E-06\n",
      "INFO:root:12: gcg, support: 3, grad_norm:0.004306016521859221\n",
      "DEBUG:root:SSN in 3 dimensions converged in 0 iterations to tolerance 6.169E-07\n",
      "INFO:root:13: gcg, support: 3, grad_norm:0.004306011480101738\n",
      "DEBUG:root:SSN in 3 dimensions converged in 1 iterations to tolerance 3.084E-07\n",
      "INFO:root:14: gcg, support: 3, grad_norm:0.004306006471215062\n",
      "DEBUG:root:SSN in 3 dimensions converged in 0 iterations to tolerance 1.542E-07\n",
      "INFO:root:15: gcg, support: 3, grad_norm:0.0043253032145667645\n",
      "DEBUG:root:SSN in 3 dimensions converged in 0 iterations to tolerance 7.711E-08\n",
      "INFO:root:16: gcg, support: 3, grad_norm:0.004325298552767914\n",
      "DEBUG:root:SSN in 3 dimensions converged in 0 iterations to tolerance 3.855E-08\n",
      "INFO:root:17: gcg, support: 3, grad_norm:0.004325293890971632\n",
      "DEBUG:root:SSN in 2 dimensions converged in 0 iterations to tolerance 1.263E-03\n",
      "INFO:root:18: newton, support: 2, grad_norm:0.004325289229177916\n",
      "DEBUG:root:SSN in 3 dimensions converged in 5 iterations to tolerance 1.928E-08\n",
      "INFO:root:19: gcg, support: 3, grad_norm:0.005016749425395207\n",
      "DEBUG:root:SSN in 3 dimensions converged in 0 iterations to tolerance 9.638E-09\n",
      "INFO:root:20: gcg, support: 3, grad_norm:0.00432534531619926\n"
     ]
    },
    {
     "ename": "KeyboardInterrupt",
     "evalue": "",
     "output_type": "error",
     "traceback": [
      "\u001b[0;31m---------------------------------------------------------------------------\u001b[0m",
      "\u001b[0;31mKeyboardInterrupt\u001b[0m                         Traceback (most recent call last)",
      "Cell \u001b[0;32mIn[14], line 1\u001b[0m\n\u001b[0;32m----> 1\u001b[0m \u001b[43mexp\u001b[49m\u001b[38;5;241;43m.\u001b[39;49m\u001b[43msolve_newton\u001b[49m\u001b[43m(\u001b[49m\u001b[43mtol\u001b[49m\u001b[38;5;241;43m=\u001b[39;49m\u001b[38;5;241;43m1e-3\u001b[39;49m\u001b[43m)\u001b[49m\n",
      "File \u001b[0;32m~/Dokumente/lazified-generalized-conditional-gradient/lgcg/lgcg.py:533\u001b[0m, in \u001b[0;36mLGCG.solve_newton\u001b[0;34m(self, tol)\u001b[0m\n\u001b[1;32m    531\u001b[0m K_support \u001b[38;5;241m=\u001b[39m np\u001b[38;5;241m.\u001b[39mtranspose(np\u001b[38;5;241m.\u001b[39marray([\u001b[38;5;28mself\u001b[39m\u001b[38;5;241m.\u001b[39mk(x) \u001b[38;5;28;01mfor\u001b[39;00m x \u001b[38;5;129;01min\u001b[39;00m u_plus\u001b[38;5;241m.\u001b[39msupport]))\n\u001b[1;32m    532\u001b[0m ssn \u001b[38;5;241m=\u001b[39m SSN(K\u001b[38;5;241m=\u001b[39mK_support, alpha\u001b[38;5;241m=\u001b[39m\u001b[38;5;28mself\u001b[39m\u001b[38;5;241m.\u001b[39malpha, target\u001b[38;5;241m=\u001b[39m\u001b[38;5;28mself\u001b[39m\u001b[38;5;241m.\u001b[39mtarget, M\u001b[38;5;241m=\u001b[39m\u001b[38;5;28mself\u001b[39m\u001b[38;5;241m.\u001b[39mM)\n\u001b[0;32m--> 533\u001b[0m u_raw \u001b[38;5;241m=\u001b[39m \u001b[43mssn\u001b[49m\u001b[38;5;241;43m.\u001b[39;49m\u001b[43msolve\u001b[49m\u001b[43m(\u001b[49m\u001b[43mtol\u001b[49m\u001b[38;5;241;43m=\u001b[39;49m\u001b[43mlocal_Psi\u001b[49m\u001b[43m,\u001b[49m\u001b[43m \u001b[49m\u001b[43mu_0\u001b[49m\u001b[38;5;241;43m=\u001b[39;49m\u001b[43mu_plus\u001b[49m\u001b[38;5;241;43m.\u001b[39;49m\u001b[43mcoefficients\u001b[49m\u001b[43m)\u001b[49m\n\u001b[1;32m    534\u001b[0m u_raw[np\u001b[38;5;241m.\u001b[39mabs(u_raw) \u001b[38;5;241m<\u001b[39m \u001b[38;5;28mself\u001b[39m\u001b[38;5;241m.\u001b[39mmachine_precision] \u001b[38;5;241m=\u001b[39m \u001b[38;5;241m0\u001b[39m\n\u001b[1;32m    535\u001b[0m \u001b[38;5;66;03m# Reconstruct u\u001b[39;00m\n",
      "File \u001b[0;32m~/Dokumente/lazified-generalized-conditional-gradient/lgcg/lib/ssn.py:121\u001b[0m, in \u001b[0;36mSSN.solve\u001b[0;34m(self, tol, u_0)\u001b[0m\n\u001b[1;32m    119\u001b[0m     \u001b[38;5;66;03m# Global Armijo step\u001b[39;00m\n\u001b[1;32m    120\u001b[0m     d \u001b[38;5;241m=\u001b[39m \u001b[38;5;28mself\u001b[39m\u001b[38;5;241m.\u001b[39mS(\u001b[38;5;28mself\u001b[39m\u001b[38;5;241m.\u001b[39mG(u)) \u001b[38;5;241m-\u001b[39m u\n\u001b[0;32m--> 121\u001b[0m     step_size \u001b[38;5;241m=\u001b[39m \u001b[38;5;28;43mself\u001b[39;49m\u001b[38;5;241;43m.\u001b[39;49m\u001b[43marmijo\u001b[49m\u001b[43m(\u001b[49m\u001b[43mu\u001b[49m\u001b[43m,\u001b[49m\u001b[43m \u001b[49m\u001b[43md\u001b[49m\u001b[43m)\u001b[49m\n\u001b[1;32m    122\u001b[0m     u \u001b[38;5;241m=\u001b[39m u \u001b[38;5;241m+\u001b[39m step_size \u001b[38;5;241m*\u001b[39m d\n\u001b[1;32m    124\u001b[0m logging\u001b[38;5;241m.\u001b[39mdebug(\n\u001b[1;32m    125\u001b[0m     \u001b[38;5;124mf\u001b[39m\u001b[38;5;124m\"\u001b[39m\u001b[38;5;124mSSN in \u001b[39m\u001b[38;5;132;01m{\u001b[39;00m\u001b[38;5;28mlen\u001b[39m(u)\u001b[38;5;132;01m}\u001b[39;00m\u001b[38;5;124m dimensions converged in \u001b[39m\u001b[38;5;132;01m{\u001b[39;00mk\u001b[38;5;132;01m}\u001b[39;00m\u001b[38;5;124m iterations to tolerance \u001b[39m\u001b[38;5;132;01m{\u001b[39;00mtol\u001b[38;5;132;01m:\u001b[39;00m\u001b[38;5;124m.3E\u001b[39m\u001b[38;5;132;01m}\u001b[39;00m\u001b[38;5;124m\"\u001b[39m\n\u001b[1;32m    126\u001b[0m )\n",
      "File \u001b[0;32m~/Dokumente/lazified-generalized-conditional-gradient/lgcg/lib/ssn.py:73\u001b[0m, in \u001b[0;36mSSN.armijo\u001b[0;34m(self, u, d)\u001b[0m\n\u001b[1;32m     71\u001b[0m delta \u001b[38;5;241m=\u001b[39m \u001b[38;5;28mself\u001b[39m\u001b[38;5;241m.\u001b[39mdelta(u, d)\n\u001b[1;32m     72\u001b[0m step_size \u001b[38;5;241m=\u001b[39m \u001b[38;5;241m1\u001b[39m\n\u001b[0;32m---> 73\u001b[0m \u001b[38;5;28;01mwhile\u001b[39;00m \u001b[38;5;28;43mself\u001b[39;49m\u001b[38;5;241;43m.\u001b[39;49m\u001b[43mj\u001b[49m\u001b[43m(\u001b[49m\u001b[43mu\u001b[49m\u001b[43m \u001b[49m\u001b[38;5;241;43m+\u001b[39;49m\u001b[43m \u001b[49m\u001b[43mstep_size\u001b[49m\u001b[43m \u001b[49m\u001b[38;5;241;43m*\u001b[39;49m\u001b[43m \u001b[49m\u001b[43md\u001b[49m\u001b[43m)\u001b[49m \u001b[38;5;241m-\u001b[39m \u001b[38;5;28mself\u001b[39m\u001b[38;5;241m.\u001b[39mj(u) \u001b[38;5;241m>\u001b[39m step_size \u001b[38;5;241m*\u001b[39m \u001b[38;5;241m0.1\u001b[39m \u001b[38;5;241m*\u001b[39m delta:\n\u001b[1;32m     74\u001b[0m     step_size \u001b[38;5;241m*\u001b[39m\u001b[38;5;241m=\u001b[39m \u001b[38;5;28mself\u001b[39m\u001b[38;5;241m.\u001b[39mbeta\n\u001b[1;32m     75\u001b[0m \u001b[38;5;28;01mreturn\u001b[39;00m step_size\n",
      "File \u001b[0;32m~/Dokumente/lazified-generalized-conditional-gradient/lgcg/lib/ssn.py:28\u001b[0m, in \u001b[0;36mSSN.__init__.<locals>.<lambda>\u001b[0;34m(u)\u001b[0m\n\u001b[1;32m     26\u001b[0m \u001b[38;5;28mself\u001b[39m\u001b[38;5;241m.\u001b[39mp_callable \u001b[38;5;241m=\u001b[39m get_default_p(\u001b[38;5;28mself\u001b[39m\u001b[38;5;241m.\u001b[39mK, \u001b[38;5;28mself\u001b[39m\u001b[38;5;241m.\u001b[39mtarget)  \u001b[38;5;66;03m# -f'\u001b[39;00m\n\u001b[1;32m     27\u001b[0m \u001b[38;5;28mself\u001b[39m\u001b[38;5;241m.\u001b[39msecond_derivative \u001b[38;5;241m=\u001b[39m np\u001b[38;5;241m.\u001b[39mmatmul(np\u001b[38;5;241m.\u001b[39mtranspose(\u001b[38;5;28mself\u001b[39m\u001b[38;5;241m.\u001b[39mK), \u001b[38;5;28mself\u001b[39m\u001b[38;5;241m.\u001b[39mK)\n\u001b[0;32m---> 28\u001b[0m \u001b[38;5;28mself\u001b[39m\u001b[38;5;241m.\u001b[39mj \u001b[38;5;241m=\u001b[39m \u001b[38;5;28;01mlambda\u001b[39;00m u: \u001b[38;5;28;43mself\u001b[39;49m\u001b[38;5;241;43m.\u001b[39;49m\u001b[43mf\u001b[49m\u001b[43m(\u001b[49m\u001b[43mu\u001b[49m\u001b[43m)\u001b[49m \u001b[38;5;241m+\u001b[39m \u001b[38;5;28mself\u001b[39m\u001b[38;5;241m.\u001b[39mg(u)\n\u001b[1;32m     29\u001b[0m \u001b[38;5;28mself\u001b[39m\u001b[38;5;241m.\u001b[39mL \u001b[38;5;241m=\u001b[39m \u001b[38;5;241m1\u001b[39m\n\u001b[1;32m     30\u001b[0m \u001b[38;5;28mself\u001b[39m\u001b[38;5;241m.\u001b[39mnorm_K_star \u001b[38;5;241m=\u001b[39m np\u001b[38;5;241m.\u001b[39mmax(\n\u001b[1;32m     31\u001b[0m     [np\u001b[38;5;241m.\u001b[39mlinalg\u001b[38;5;241m.\u001b[39mnorm(row) \u001b[38;5;28;01mfor\u001b[39;00m row \u001b[38;5;129;01min\u001b[39;00m np\u001b[38;5;241m.\u001b[39mtranspose(\u001b[38;5;28mself\u001b[39m\u001b[38;5;241m.\u001b[39mK)]\n\u001b[1;32m     32\u001b[0m )  \u001b[38;5;66;03m# the 2,inf norm of K*\u001b[39;00m\n",
      "File \u001b[0;32m~/Dokumente/lazified-generalized-conditional-gradient/lgcg/lib/default_values.py:7\u001b[0m, in \u001b[0;36mget_default_f.<locals>.<lambda>\u001b[0;34m(u)\u001b[0m\n\u001b[1;32m      5\u001b[0m \u001b[38;5;28;01mdef\u001b[39;00m \u001b[38;5;21mget_default_f\u001b[39m(K: np\u001b[38;5;241m.\u001b[39mndarray, y: np\u001b[38;5;241m.\u001b[39mndarray) \u001b[38;5;241m-\u001b[39m\u001b[38;5;241m>\u001b[39m Callable:\n\u001b[1;32m      6\u001b[0m     \u001b[38;5;66;03m# 0.5\\Vert Ku-y\\Vert^2\u001b[39;00m\n\u001b[0;32m----> 7\u001b[0m     \u001b[38;5;28;01mreturn\u001b[39;00m \u001b[38;5;28;01mlambda\u001b[39;00m u: \u001b[38;5;241m0.5\u001b[39m \u001b[38;5;241m*\u001b[39m \u001b[43mnp\u001b[49m\u001b[38;5;241;43m.\u001b[39;49m\u001b[43mlinalg\u001b[49m\u001b[38;5;241;43m.\u001b[39;49m\u001b[43mnorm\u001b[49m\u001b[43m(\u001b[49m\u001b[43mnp\u001b[49m\u001b[38;5;241;43m.\u001b[39;49m\u001b[43mmatmul\u001b[49m\u001b[43m(\u001b[49m\u001b[43mK\u001b[49m\u001b[43m,\u001b[49m\u001b[43m \u001b[49m\u001b[43mu\u001b[49m\u001b[43m)\u001b[49m\u001b[43m \u001b[49m\u001b[38;5;241;43m-\u001b[39;49m\u001b[43m \u001b[49m\u001b[43my\u001b[49m\u001b[43m)\u001b[49m \u001b[38;5;241m*\u001b[39m\u001b[38;5;241m*\u001b[39m \u001b[38;5;241m2\u001b[39m\n",
      "File \u001b[0;32m<__array_function__ internals>:200\u001b[0m, in \u001b[0;36mnorm\u001b[0;34m(*args, **kwargs)\u001b[0m\n",
      "File \u001b[0;32m~/miniconda3/envs/sissopp_env/lib/python3.9/site-packages/numpy/linalg/linalg.py:2495\u001b[0m, in \u001b[0;36mnorm\u001b[0;34m(x, ord, axis, keepdims)\u001b[0m\n\u001b[1;32m   2344\u001b[0m \u001b[38;5;250m\u001b[39m\u001b[38;5;124;03m\"\"\"\u001b[39;00m\n\u001b[1;32m   2345\u001b[0m \u001b[38;5;124;03mMatrix or vector norm.\u001b[39;00m\n\u001b[1;32m   2346\u001b[0m \n\u001b[0;32m   (...)\u001b[0m\n\u001b[1;32m   2491\u001b[0m \n\u001b[1;32m   2492\u001b[0m \u001b[38;5;124;03m\"\"\"\u001b[39;00m\n\u001b[1;32m   2493\u001b[0m x \u001b[38;5;241m=\u001b[39m asarray(x)\n\u001b[0;32m-> 2495\u001b[0m \u001b[38;5;28;01mif\u001b[39;00m \u001b[38;5;129;01mnot\u001b[39;00m \u001b[38;5;28missubclass\u001b[39m(\u001b[43mx\u001b[49m\u001b[38;5;241;43m.\u001b[39;49m\u001b[43mdtype\u001b[49m\u001b[38;5;241;43m.\u001b[39;49m\u001b[43mtype\u001b[49m, (inexact, object_)):\n\u001b[1;32m   2496\u001b[0m     x \u001b[38;5;241m=\u001b[39m x\u001b[38;5;241m.\u001b[39mastype(\u001b[38;5;28mfloat\u001b[39m)\n\u001b[1;32m   2498\u001b[0m \u001b[38;5;66;03m# Immediately handle some default, simple, fast, and common cases.\u001b[39;00m\n",
      "\u001b[0;31mKeyboardInterrupt\u001b[0m: "
     ]
    }
   ],
   "source": [
    "exp.solve_newton(tol=1e-3)"
   ]
  },
  {
   "cell_type": "markdown",
   "metadata": {},
   "source": [
    "# Test Stochastic"
   ]
  },
  {
   "cell_type": "code",
   "execution_count": 3,
   "metadata": {},
   "outputs": [],
   "source": [
    "data_path = \"../../sisso/src/test/thermal_conductivity_data.csv\"\n",
    "exp = LGCG_stochastic(data_path=data_path, alpha=0.1)"
   ]
  },
  {
   "cell_type": "code",
   "execution_count": 4,
   "metadata": {},
   "outputs": [
    {
     "name": "stderr",
     "output_type": "stream",
     "text": [
      "INFO:root:---------------------\n",
      "INFO:root:---------------------\n"
     ]
    },
    {
     "name": "stdout",
     "output_type": "stream",
     "text": [
      "Time to generate feat space: 262.406 s\n"
     ]
    },
    {
     "name": "stderr",
     "output_type": "stream",
     "text": [
      "INFO:root:0.9755782288434427\n",
      "INFO:root:1\n",
      "INFO:root:K []\n",
      "INFO:root:[0.01650826 0.08398484 0.03875523 0.03877598 0.04318637 0.04194306\n",
      " 0.04804311 0.06922419 0.08354961 0.11852333 0.04570393 0.04838697\n",
      " 0.06082152 0.04974988 0.03391667 0.03654056 0.03532187 0.03515929\n",
      " 0.04248941 0.04185097 0.0362112  0.07187031 0.0379061  0.04252391\n",
      " 0.03777911 0.13475375 0.12981585 0.11154833 0.34266939 0.21564257\n",
      " 0.06654163 0.12626913 0.13974483 0.09623659 0.11400463 0.09425901\n",
      " 0.15303787 0.08798618 0.07927755 0.18412779 0.18997568 0.23295921\n",
      " 0.08915301 0.20109564 0.13541286 0.09429843 0.07918945 0.06793185\n",
      " 0.06641488 0.1338539  0.12592129 0.12139781 0.13090409 0.1034475\n",
      " 0.08834254 0.1011218  0.05419033 0.06345643 0.05942181 0.05300143\n",
      " 0.0721522  0.09091953 0.08603043 0.10407362 0.1014441  0.065165\n",
      " 0.19817434 0.27812532 0.24831032 0.06895994 0.13319063 0.11928598\n",
      " 0.08974987 0.10409334 0.06904784]\n",
      "/vol/cs-hu/hnatiuar@hu-berlin.de/Dokumente/lazified-generalized-conditional-gradient/lgcg/lgcg_stochastic.py:226: FutureWarning: elementwise comparison failed; returning scalar instead, but in the future will perform elementwise comparison\n",
      "  if x_dict[\"expression\"] in active_expressions:\n",
      "/vol/cs-hu/hnatiuar@hu-berlin.de/Dokumente/lazified-generalized-conditional-gradient/lgcg/lgcg_stochastic.py:265: FutureWarning: elementwise comparison failed; returning scalar instead, but in the future will perform elementwise comparison\n",
      "  if x_dict[\"expression\"] in active_expressions:\n",
      "INFO:root:u [-0.21889456]\n",
      "DEBUG:root:SSN in 1 dimensions converged in 1 iterations to tolerance 5.050E+00\n",
      "INFO:root:SSN found a different solution\n",
      "INFO:root:u_raw [0.30365832]\n",
      "INFO:root:[0]\n",
      "INFO:root:---------------------\n",
      "INFO:root:---------------------\n"
     ]
    },
    {
     "name": "stdout",
     "output_type": "stream",
     "text": [
      "Time to generate feat space: 262.994 s\n"
     ]
    },
    {
     "name": "stderr",
     "output_type": "stream",
     "text": [
      "INFO:root:0.9539958314747843\n",
      "INFO:root:1\n",
      "INFO:root:['((omega_Gamma_max / sigma_os) / (Theta_p * L_min_prim))']\n",
      "INFO:root:2: Phi 3.106E+00, epsilon 6.361E+00, support 1, Psi 5.050E+00\n",
      "INFO:root:K [[0.01650826 0.08398484 0.03875523 0.03877598 0.04318637 0.04194306\n",
      "  0.04804311 0.06922419 0.08354961 0.11852333 0.04570393 0.04838697\n",
      "  0.06082152 0.04974988 0.03391667 0.03654056 0.03532187 0.03515929\n",
      "  0.04248941 0.04185097 0.0362112  0.07187031 0.0379061  0.04252391\n",
      "  0.03777911 0.13475375 0.12981585 0.11154833 0.34266939 0.21564257\n",
      "  0.06654163 0.12626913 0.13974483 0.09623659 0.11400463 0.09425901\n",
      "  0.15303787 0.08798618 0.07927755 0.18412779 0.18997568 0.23295921\n",
      "  0.08915301 0.20109564 0.13541286 0.09429843 0.07918945 0.06793185\n",
      "  0.06641488 0.1338539  0.12592129 0.12139781 0.13090409 0.1034475\n",
      "  0.08834254 0.1011218  0.05419033 0.06345643 0.05942181 0.05300143\n",
      "  0.0721522  0.09091953 0.08603043 0.10407362 0.1014441  0.065165\n",
      "  0.19817434 0.27812532 0.24831032 0.06895994 0.13319063 0.11928598\n",
      "  0.08974987 0.10409334 0.06904784]]\n",
      "INFO:root:[0.03025723 0.08622215 0.06749971 0.07652336 0.07095505 0.06954595\n",
      " 0.08132073 0.07232291 0.14020944 0.09611855 0.06798253 0.07317839\n",
      " 0.07228934 0.06966046 0.04045889 0.0307534  0.03337375 0.05491006\n",
      " 0.06627846 0.06319881 0.05495144 0.07632915 0.04693996 0.05943613\n",
      " 0.04475115 0.15704633 0.17993819 0.1644496  0.22725957 0.20608784\n",
      " 0.08593585 0.11734913 0.12356526 0.10749054 0.14297693 0.10251115\n",
      " 0.20692737 0.11139006 0.09348372 0.18575689 0.17461764 0.21471522\n",
      " 0.1377771  0.18832448 0.15070341 0.10421752 0.09561752 0.10241551\n",
      " 0.09107297 0.08017121 0.07872202 0.08463187 0.07692514 0.15012624\n",
      " 0.06153398 0.09581779 0.08713188 0.07163004 0.07886835 0.05917368\n",
      " 0.06851747 0.09612798 0.08980283 0.0988016  0.10332324 0.07041129\n",
      " 0.21370455 0.18817734 0.2283877  0.08336484 0.1469547  0.11251109\n",
      " 0.09234312 0.08661614 0.09600518]\n",
      "INFO:root:u [ 0.29422563 -0.15531759]\n",
      "DEBUG:root:SSN in 2 dimensions converged in 0 iterations to tolerance 5.050E+00\n",
      "INFO:root:SSN found a different solution\n",
      "INFO:root:u_raw [ 0.29422563 -0.15531759]\n",
      "INFO:root:[0 1]\n",
      "INFO:root:---------------------\n"
     ]
    }
   ],
   "source": [
    "exp.solve(tol=1e-7)"
   ]
  },
  {
   "cell_type": "code",
   "execution_count": null,
   "metadata": {},
   "outputs": [],
   "source": []
  }
 ],
 "metadata": {
  "kernelspec": {
   "display_name": "conda_env_lgcg",
   "language": "python",
   "name": "python3"
  },
  "language_info": {
   "codemirror_mode": {
    "name": "ipython",
    "version": 3
   },
   "file_extension": ".py",
   "mimetype": "text/x-python",
   "name": "python",
   "nbconvert_exporter": "python",
   "pygments_lexer": "ipython3",
   "version": "3.9.19"
  }
 },
 "nbformat": 4,
 "nbformat_minor": 2
}

{
 "cells": [
  {
   "cell_type": "code",
   "execution_count": 25,
   "metadata": {},
   "outputs": [
    {
     "name": "stderr",
     "output_type": "stream",
     "text": [
      "DEBUG:matplotlib:matplotlib data path: /vol/cs-hu/hnatiuar@hu-berlin.de/miniconda3/envs/sissopp_env/lib/python3.9/site-packages/matplotlib/mpl-data\n",
      "DEBUG:matplotlib:CONFIGDIR=/vol/cs-hu/hnatiuar@hu-berlin.de/.config/matplotlib\n",
      "DEBUG:matplotlib:interactive is False\n",
      "DEBUG:matplotlib:platform is linux\n",
      "DEBUG:matplotlib:CACHEDIR=/vol/cs-hu/hnatiuar@hu-berlin.de/.cache/matplotlib\n",
      "DEBUG:matplotlib.font_manager:Using fontManager instance from /vol/cs-hu/hnatiuar@hu-berlin.de/.cache/matplotlib/fontlist-v330.json\n"
     ]
    }
   ],
   "source": [
    "import numpy as np\n",
    "import os\n",
    "import sys\n",
    "import matplotlib.pyplot as plt\n",
    "from mpl_toolkits.mplot3d import Axes3D\n",
    "module_path = os.path.abspath(os.path.join('..'))\n",
    "if module_path not in sys.path:\n",
    "    sys.path.append(module_path)\n",
    "lgcg_path = os.path.abspath(os.path.join('../lgcg'))\n",
    "if lgcg_path not in sys.path:\n",
    "    sys.path.append(lgcg_path)\n",
    "from lib.measure import Measure\n",
    "from lgcg_stochastic import LGCG_stochastic\n",
    "from lgcg import LGCG"
   ]
  },
  {
   "cell_type": "markdown",
   "metadata": {},
   "source": [
    "# Generate Data and Define Functions"
   ]
  },
  {
   "cell_type": "code",
   "execution_count": 2,
   "metadata": {},
   "outputs": [],
   "source": [
    "Omega = np.array([[0,1],[0,1]])\n",
    "alpha = 0.01\n",
    "observation_resolution = 3\n",
    "observations = (np.array(np.meshgrid(\n",
    "                    *(\n",
    "                        np.linspace(bound[0], bound[1], observation_resolution+2)\n",
    "                        for bound in Omega\n",
    "                    ))\n",
    "            ).reshape(len(Omega), -1).T)\n",
    "observations = np.array([obs for obs in observations if all(obs!=0) and all(obs!=1)])\n",
    "std_factor = 1\n",
    "k = lambda x: np.array([np.exp(-np.linalg.norm(point-x)**2/std_factor)/np.sqrt(std_factor*np.pi)**Omega.shape[0] for point in observations])\n",
    "true_sources = np.array([[0.1,0.3], [0.25,0.8], [0.7,0.5]])\n",
    "true_weights = np.array([0.2,-1.1,0.8])\n",
    "u_bar = Measure(support=true_sources, coefficients=true_weights)\n",
    "target = u_bar.duality_pairing(k)\n",
    "norm_K_star = np.sqrt(len(observations)/(std_factor*np.pi)**Omega.shape[0])\n",
    "norm_K_star_L = np.sqrt(0.5*std_factor*len(observations)/(np.pi*std_factor)**Omega.shape[0])"
   ]
  },
  {
   "cell_type": "code",
   "execution_count": 3,
   "metadata": {},
   "outputs": [],
   "source": [
    "g = lambda u: alpha * np.linalg.norm(u, ord=1)\n",
    "f = lambda u: 0.5 * np.linalg.norm(sum(c * k(x) for x, c in zip(u.support, u.coefficients)) - target) ** 2"
   ]
  },
  {
   "cell_type": "code",
   "execution_count": 4,
   "metadata": {},
   "outputs": [],
   "source": [
    "def p_raw(u, k, target):\n",
    "    def p_u(x):\n",
    "        Ku = u.duality_pairing(k)\n",
    "        inner = Ku-target\n",
    "        return -np.dot(inner, k(x))\n",
    "    return p_u\n",
    "\n",
    "p = lambda u: p_raw(u, k=k, target=target)"
   ]
  },
  {
   "cell_type": "code",
   "execution_count": 5,
   "metadata": {},
   "outputs": [],
   "source": [
    "def grad_k_raw(observations, std_factor):\n",
    "    def grad_k(x):\n",
    "        return np.array([2*(point-x)*np.exp(-np.linalg.norm(point-x)**2/std_factor)/(std_factor*np.sqrt(std_factor*np.pi)**Omega.shape[0]) for point in observations])\n",
    "    return grad_k\n",
    "\n",
    "grad_k = grad_k_raw(observations, std_factor) # The Jacobian of k, shape=(len(observations), Omega.shape[0])"
   ]
  },
  {
   "cell_type": "code",
   "execution_count": 6,
   "metadata": {},
   "outputs": [],
   "source": [
    "def hess_k_raw(observations, std_factor):\n",
    "    def hess_k(x):\n",
    "        first_part = lambda point: -2*np.eye(Omega.shape[0])*np.exp(-np.linalg.norm(point-x)**2/std_factor)/(std_factor*np.sqrt(std_factor*np.pi)**Omega.shape[0])\n",
    "        second_part = lambda point: 4*np.dot((point-x).reshape(-1,1), np.array([point-x]))*np.exp(-np.linalg.norm(point-x)**2/std_factor)/(std_factor**2*np.sqrt(std_factor*np.pi)**Omega.shape[0])\n",
    "        return np.array([first_part(point)+second_part(point) for point in observations])\n",
    "    return hess_k\n",
    "\n",
    "hess_k = hess_k_raw(observations, std_factor) # The derivative of the Jacobian of k, shape=(len(observations), Omega.shape[0], Omega.shape[0])"
   ]
  },
  {
   "cell_type": "code",
   "execution_count": 7,
   "metadata": {},
   "outputs": [],
   "source": [
    "def grad_P_raw(k, target, observations, std_factor):\n",
    "    grad_k = grad_k_raw(observations, std_factor)\n",
    "    def grad_P(x,u):\n",
    "        p_u = p_raw(u, k, target)\n",
    "        inner = target-u.duality_pairing(k)\n",
    "        return np.sign(p_u(x))*np.matmul(grad_k(x).T, inner)\n",
    "    return grad_P\n",
    "\n",
    "grad_P = grad_P_raw(k, target, observations, std_factor)"
   ]
  },
  {
   "cell_type": "code",
   "execution_count": 8,
   "metadata": {},
   "outputs": [],
   "source": [
    "def hess_P_raw(k, target, observations, std_factor):\n",
    "    hess_k = hess_k_raw(observations, std_factor)\n",
    "    def hess_P(x,u):\n",
    "        p_u = p_raw(u, k, target)\n",
    "        inner = target-u.duality_pairing(k)\n",
    "        return np.sign(p_u(x))*np.tensordot(hess_k(x),inner,axes=([0,0]))\n",
    "    return hess_P\n",
    "\n",
    "hess_P = hess_P_raw(k, target, observations, std_factor)"
   ]
  },
  {
   "cell_type": "code",
   "execution_count": 9,
   "metadata": {},
   "outputs": [],
   "source": [
    "def get_grad_j(k, grad_k, alpha, target):\n",
    "    def grad_j(positions, coefs):\n",
    "        to_return = []\n",
    "        grad_F = (\n",
    "            np.sum(\n",
    "                np.array([c * k(x) for x, c in zip(positions, coefs)]),\n",
    "                axis=0,\n",
    "            )\n",
    "            - target\n",
    "        )\n",
    "        for ind, x in enumerate(positions):\n",
    "            # nabla_x_ind\n",
    "            array = coefs[ind] * np.matmul(grad_k(x).T, grad_F)\n",
    "            to_return += array.tolist()\n",
    "        # nabla_u\n",
    "        K = np.array([k(x) for x in positions])\n",
    "        to_return += (np.dot(K, grad_F) + alpha * np.sign(coefs)).tolist()\n",
    "        return np.array(to_return)\n",
    "    return grad_j\n",
    "\n",
    "grad_j = get_grad_j(k, grad_k, alpha, target)"
   ]
  },
  {
   "cell_type": "code",
   "execution_count": 10,
   "metadata": {},
   "outputs": [],
   "source": [
    "def get_hess_j(k, grad_k, hess_k, target):\n",
    "    def hess_j(positions, coefs):\n",
    "        matrix_dimension = len(positions)*Omega.shape[0] + len(coefs)\n",
    "        hesse_matrix = np.zeros((matrix_dimension, matrix_dimension))\n",
    "        step = Omega.shape[0]\n",
    "        coefs_delay = step*len(positions)\n",
    "        inner = sum(k(x)*c for c, x in zip(coefs, positions))-target\n",
    "        for i, position in enumerate(positions):\n",
    "            # nabla_{x_i,x_j}\n",
    "            for j, other_position in enumerate(positions):\n",
    "                if j<i:\n",
    "                    continue\n",
    "                block = coefs[i]*coefs[j]*np.matmul(grad_k(position).T, grad_k(other_position))\n",
    "                if i==j:\n",
    "                    block += coefs[i]*np.tensordot(hess_k(position),inner,axes=([0,0]))\n",
    "                hesse_matrix[i*step:(i+1)*step, j*step:(j+1)*step] = block\n",
    "                hesse_matrix[j*step:(j+1)*step, i*step:(i+1)*step] = block.T\n",
    "            # nabla_{x_i,u_j}\n",
    "            for j, coef in enumerate(coefs):\n",
    "                block = coefs[i]*np.matmul(grad_k(position).T, k(positions[j]))\n",
    "                if i == j:\n",
    "                    block += np.matmul(grad_k(position).T, inner)\n",
    "                hesse_matrix[i*step:(i+1)*step, coefs_delay+j] = block\n",
    "                hesse_matrix[coefs_delay+j, i*step:(i+1)*step] = block.T\n",
    "        for i, coef in enumerate(coefs):\n",
    "            # nabla_{u_i,u_j}\n",
    "            for j, other_coef in enumerate(coefs):\n",
    "                if j<i:\n",
    "                    continue\n",
    "                block = np.dot(k(positions[i]), k(positions[j]))\n",
    "                hesse_matrix[coefs_delay+i,coefs_delay+j] = block\n",
    "                hesse_matrix[coefs_delay+j,coefs_delay+i] = block\n",
    "        return hesse_matrix\n",
    "    return hess_j\n",
    "\n",
    "hess_j = get_hess_j(k, grad_k, hess_k, target)"
   ]
  },
  {
   "cell_type": "code",
   "execution_count": 11,
   "metadata": {},
   "outputs": [],
   "source": [
    "gamma = 0.5\n",
    "theta = 3e-1\n",
    "sigma = 1e-2\n",
    "m = 1e-5\n",
    "bar_m = 1e3\n",
    "L = 1\n",
    "R = 5e-2"
   ]
  },
  {
   "cell_type": "code",
   "execution_count": 12,
   "metadata": {},
   "outputs": [
    {
     "data": {
      "text/plain": [
       "array([-0.00128552,  0.04088672,  0.07873324, -0.05223227, -0.00383152,\n",
       "        0.04488062, -0.1030641 , -0.05396143,  0.00068896])"
      ]
     },
     "execution_count": 12,
     "metadata": {},
     "output_type": "execute_result"
    }
   ],
   "source": [
    "target"
   ]
  },
  {
   "cell_type": "code",
   "execution_count": 13,
   "metadata": {},
   "outputs": [
    {
     "data": {
      "text/plain": [
       "array([[0., 0.],\n",
       "       [0., 0.]])"
      ]
     },
     "execution_count": 13,
     "metadata": {},
     "output_type": "execute_result"
    }
   ],
   "source": [
    "# true_sources = np.array([[0.1,0.3], [0.25,0.8], [0.7,0.5]])\n",
    "point = [0.4,0.3]\n",
    "hess_P(point, u_bar)"
   ]
  },
  {
   "cell_type": "markdown",
   "metadata": {},
   "source": [
    "# Test LGCG"
   ]
  },
  {
   "cell_type": "code",
   "execution_count": 14,
   "metadata": {},
   "outputs": [],
   "source": [
    "exp = LGCG(target=target, \n",
    "           k=k, \n",
    "           g=g, \n",
    "           f=f,\n",
    "           p=p,\n",
    "           grad_P=grad_P,\n",
    "           hess_P=hess_P,\n",
    "           norm_K_star=norm_K_star,\n",
    "           norm_K_star_L=norm_K_star_L,\n",
    "           grad_j=grad_j,\n",
    "           hess_j=hess_j,\n",
    "           alpha=alpha,\n",
    "           Omega=Omega,\n",
    "           gamma=gamma,\n",
    "           theta=theta,\n",
    "           sigma=sigma,\n",
    "           m=m,\n",
    "           bar_m=bar_m,\n",
    "           L=L,\n",
    "           R=R\n",
    "           )"
   ]
  },
  {
   "cell_type": "code",
   "execution_count": 15,
   "metadata": {},
   "outputs": [
    {
     "name": "stderr",
     "output_type": "stream",
     "text": [
      "DEBUG:root:SSN in 1 dimensions converged in 7 iterations to tolerance 1.000E-15\n",
      "INFO:root:1: P_value:3.605E-02, support: [[0.05838178 0.93444806]], coefs: [-0.06084684], x: [0.90956496 0.10144454]\n",
      "DEBUG:root:SSN in 2 dimensions converged in 5 iterations to tolerance 1.000E-15\n",
      "INFO:root:2: P_value:1.039E-02, support: [[0.05838178 0.93444806]\n",
      " [0.90956496 0.10144454]], coefs: [-0.33428107  0.29132336], x: [1.         0.00300505]\n",
      "DEBUG:root:SSN in 3 dimensions converged in 289 iterations to tolerance 1.000E-15\n",
      "INFO:root:3: P_value:1.030E-02, support: [[0.05838178 0.93444806]\n",
      " [1.         0.00300505]], coefs: [-0.30756596  0.31157435], x: [0. 1.]\n",
      "DEBUG:root:SSN in 3 dimensions converged in 9 iterations to tolerance 1.000E-15\n",
      "INFO:root:4: P_value:4.040E-02, support: [[0.         1.        ]\n",
      " [1.         0.00300505]], coefs: [ 0.29360698 -0.32461795], x: [1. 0.]\n",
      "DEBUG:root:SSN in 2 dimensions converged in 7 iterations to tolerance 1.000E-15\n",
      "INFO:root:5: P_value:1.000E-02, support: [[0.         1.        ]\n",
      " [1.         0.00300505]], coefs: [-0.32461795  0.29360698], x: [1.         0.00981329]\n",
      "DEBUG:root:SSN in 2 dimensions converged in 5 iterations to tolerance 1.000E-15\n",
      "INFO:root:6: P_value:1.000E-02, support: [[0.         1.        ]\n",
      " [1.         0.00300505]], coefs: [-0.32461795  0.29360698], x: [1.         0.00981329]\n",
      "DEBUG:root:SSN in 2 dimensions converged in 5 iterations to tolerance 1.000E-15\n",
      "INFO:root:7: P_value:1.000E-02, support: [[0.         1.        ]\n",
      " [1.         0.00300505]], coefs: [-0.32461795  0.29360698], x: [1.         0.00981329]\n",
      "DEBUG:root:SSN in 2 dimensions converged in 5 iterations to tolerance 1.000E-15\n",
      "INFO:root:8: P_value:1.000E-02, support: [[0.         1.        ]\n",
      " [1.         0.00300505]], coefs: [-0.32461795  0.29360698], x: [1.         0.00981329]\n",
      "DEBUG:root:SSN in 2 dimensions converged in 5 iterations to tolerance 1.000E-15\n",
      "INFO:root:9: P_value:1.000E-02, support: [[0.         1.        ]\n",
      " [1.         0.00300505]], coefs: [-0.32461795  0.29360698], x: [1.         0.00981329]\n",
      "DEBUG:root:SSN in 2 dimensions converged in 5 iterations to tolerance 1.000E-15\n"
     ]
    },
    {
     "ename": "KeyboardInterrupt",
     "evalue": "",
     "output_type": "error",
     "traceback": [
      "\u001b[0;31m---------------------------------------------------------------------------\u001b[0m",
      "\u001b[0;31mKeyboardInterrupt\u001b[0m                         Traceback (most recent call last)",
      "Cell \u001b[0;32mIn[15], line 1\u001b[0m\n\u001b[0;32m----> 1\u001b[0m u \u001b[38;5;241m=\u001b[39m \u001b[43mexp\u001b[49m\u001b[38;5;241;43m.\u001b[39;49m\u001b[43msolve_exact\u001b[49m\u001b[43m(\u001b[49m\u001b[43mtol\u001b[49m\u001b[38;5;241;43m=\u001b[39;49m\u001b[38;5;241;43m1e-10\u001b[39;49m\u001b[43m)\u001b[49m\n",
      "File \u001b[0;32m~/Dokumente/lazified-generalized-conditional-gradient/lgcg/lgcg.py:441\u001b[0m, in \u001b[0;36mLGCG.solve_exact\u001b[0;34m(self, tol)\u001b[0m\n\u001b[1;32m    436\u001b[0m u \u001b[38;5;241m=\u001b[39m Measure(\n\u001b[1;32m    437\u001b[0m     support\u001b[38;5;241m=\u001b[39mu_plus\u001b[38;5;241m.\u001b[39msupport[u_raw \u001b[38;5;241m!=\u001b[39m \u001b[38;5;241m0\u001b[39m]\u001b[38;5;241m.\u001b[39mcopy(),\n\u001b[1;32m    438\u001b[0m     coefficients\u001b[38;5;241m=\u001b[39mu_raw[u_raw \u001b[38;5;241m!=\u001b[39m \u001b[38;5;241m0\u001b[39m]\u001b[38;5;241m.\u001b[39mcopy(),\n\u001b[1;32m    439\u001b[0m )\n\u001b[1;32m    440\u001b[0m p_u \u001b[38;5;241m=\u001b[39m \u001b[38;5;28mself\u001b[39m\u001b[38;5;241m.\u001b[39mp(u)\n\u001b[0;32m--> 441\u001b[0m x, global_valid \u001b[38;5;241m=\u001b[39m \u001b[38;5;28;43mself\u001b[39;49m\u001b[38;5;241;43m.\u001b[39;49m\u001b[43mglobal_search\u001b[49m\u001b[43m(\u001b[49m\u001b[43mp_u\u001b[49m\u001b[43m,\u001b[49m\u001b[43m \u001b[49m\u001b[43mu\u001b[49m\u001b[43m,\u001b[49m\u001b[43m \u001b[49m\u001b[38;5;241;43m1000\u001b[39;49m\u001b[43m)\u001b[49m\n\u001b[1;32m    442\u001b[0m P_value \u001b[38;5;241m=\u001b[39m np\u001b[38;5;241m.\u001b[39mabs(p_u(x))\n\u001b[1;32m    443\u001b[0m logging\u001b[38;5;241m.\u001b[39minfo(\n\u001b[1;32m    444\u001b[0m     \u001b[38;5;124mf\u001b[39m\u001b[38;5;124m\"\u001b[39m\u001b[38;5;132;01m{\u001b[39;00mk\u001b[38;5;132;01m}\u001b[39;00m\u001b[38;5;124m: P_value:\u001b[39m\u001b[38;5;132;01m{\u001b[39;00mP_value\u001b[38;5;132;01m:\u001b[39;00m\u001b[38;5;124m.3E\u001b[39m\u001b[38;5;132;01m}\u001b[39;00m\u001b[38;5;124m, support: \u001b[39m\u001b[38;5;132;01m{\u001b[39;00mu\u001b[38;5;241m.\u001b[39msupport\u001b[38;5;132;01m}\u001b[39;00m\u001b[38;5;124m, coefs: \u001b[39m\u001b[38;5;132;01m{\u001b[39;00mu\u001b[38;5;241m.\u001b[39mcoefficients\u001b[38;5;132;01m}\u001b[39;00m\u001b[38;5;124m, x: \u001b[39m\u001b[38;5;132;01m{\u001b[39;00mx\u001b[38;5;132;01m}\u001b[39;00m\u001b[38;5;124m\"\u001b[39m\n\u001b[1;32m    445\u001b[0m )\n",
      "File \u001b[0;32m~/Dokumente/lazified-generalized-conditional-gradient/lgcg/lgcg.py:232\u001b[0m, in \u001b[0;36mLGCG.global_search\u001b[0;34m(self, p_u, u, epsilon)\u001b[0m\n\u001b[1;32m    230\u001b[0m \u001b[38;5;28;01mfor\u001b[39;00m ind, (point, processing) \u001b[38;5;129;01min\u001b[39;00m \u001b[38;5;28menumerate\u001b[39m(\u001b[38;5;28mzip\u001b[39m(grid, processing_array)):\n\u001b[1;32m    231\u001b[0m     \u001b[38;5;28;01mif\u001b[39;00m processing:\n\u001b[0;32m--> 232\u001b[0m         gradient \u001b[38;5;241m=\u001b[39m \u001b[43mgrad_P\u001b[49m\u001b[43m(\u001b[49m\u001b[43mpoint\u001b[49m\u001b[43m)\u001b[49m\n\u001b[1;32m    233\u001b[0m         hessian \u001b[38;5;241m=\u001b[39m hess_P(point)\n\u001b[1;32m    234\u001b[0m         \u001b[38;5;28;01mif\u001b[39;00m np\u001b[38;5;241m.\u001b[39mlinalg\u001b[38;5;241m.\u001b[39mnorm(gradient) \u001b[38;5;241m<\u001b[39m \u001b[38;5;28mself\u001b[39m\u001b[38;5;241m.\u001b[39mmachine_precision:\n",
      "File \u001b[0;32m~/Dokumente/lazified-generalized-conditional-gradient/lgcg/lgcg.py:203\u001b[0m, in \u001b[0;36mLGCG.global_search.<locals>.<lambda>\u001b[0;34m(x)\u001b[0m\n\u001b[1;32m    201\u001b[0m \u001b[38;5;28;01mdef\u001b[39;00m \u001b[38;5;21mglobal_search\u001b[39m(\u001b[38;5;28mself\u001b[39m, p_u: Callable, u: Measure, epsilon: \u001b[38;5;28mfloat\u001b[39m) \u001b[38;5;241m-\u001b[39m\u001b[38;5;241m>\u001b[39m \u001b[38;5;28mtuple\u001b[39m:\n\u001b[1;32m    202\u001b[0m     p_norm \u001b[38;5;241m=\u001b[39m \u001b[38;5;28;01mlambda\u001b[39;00m x: \u001b[38;5;28mabs\u001b[39m(p_u(x))\n\u001b[0;32m--> 203\u001b[0m     grad_P \u001b[38;5;241m=\u001b[39m \u001b[38;5;28;01mlambda\u001b[39;00m x: \u001b[38;5;28;43mself\u001b[39;49m\u001b[38;5;241;43m.\u001b[39;49m\u001b[43mgrad_P\u001b[49m\u001b[43m(\u001b[49m\u001b[43mx\u001b[49m\u001b[43m,\u001b[49m\u001b[43m \u001b[49m\u001b[43mu\u001b[49m\u001b[43m)\u001b[49m\n\u001b[1;32m    204\u001b[0m     hess_P \u001b[38;5;241m=\u001b[39m \u001b[38;5;28;01mlambda\u001b[39;00m x: \u001b[38;5;28mself\u001b[39m\u001b[38;5;241m.\u001b[39mhess_P(x, u)\n\u001b[1;32m    205\u001b[0m     grid \u001b[38;5;241m=\u001b[39m (\n\u001b[1;32m    206\u001b[0m         np\u001b[38;5;241m.\u001b[39marray(\n\u001b[1;32m    207\u001b[0m             np\u001b[38;5;241m.\u001b[39mmeshgrid(\n\u001b[0;32m   (...)\u001b[0m\n\u001b[1;32m    215\u001b[0m         \u001b[38;5;241m.\u001b[39mT\n\u001b[1;32m    216\u001b[0m     )\n",
      "Cell \u001b[0;32mIn[7], line 5\u001b[0m, in \u001b[0;36mgrad_P_raw.<locals>.grad_P\u001b[0;34m(x, u)\u001b[0m\n\u001b[1;32m      3\u001b[0m \u001b[38;5;28;01mdef\u001b[39;00m \u001b[38;5;21mgrad_P\u001b[39m(x,u):\n\u001b[1;32m      4\u001b[0m     p_u \u001b[38;5;241m=\u001b[39m p_raw(u, k, target)\n\u001b[0;32m----> 5\u001b[0m     inner \u001b[38;5;241m=\u001b[39m target\u001b[38;5;241m-\u001b[39m\u001b[43mu\u001b[49m\u001b[38;5;241;43m.\u001b[39;49m\u001b[43mduality_pairing\u001b[49m\u001b[43m(\u001b[49m\u001b[43mk\u001b[49m\u001b[43m)\u001b[49m\n\u001b[1;32m      6\u001b[0m     \u001b[38;5;28;01mreturn\u001b[39;00m np\u001b[38;5;241m.\u001b[39msign(p_u(x))\u001b[38;5;241m*\u001b[39mnp\u001b[38;5;241m.\u001b[39mmatmul(grad_k(x)\u001b[38;5;241m.\u001b[39mT, inner)\n",
      "File \u001b[0;32m~/Dokumente/lazified-generalized-conditional-gradient/lgcg/lib/measure.py:30\u001b[0m, in \u001b[0;36mMeasure.duality_pairing\u001b[0;34m(self, fct)\u001b[0m\n\u001b[1;32m     28\u001b[0m \u001b[38;5;28;01mdef\u001b[39;00m \u001b[38;5;21mduality_pairing\u001b[39m(\u001b[38;5;28mself\u001b[39m, fct: Callable) \u001b[38;5;241m-\u001b[39m\u001b[38;5;241m>\u001b[39m \u001b[38;5;28mfloat\u001b[39m:\n\u001b[1;32m     29\u001b[0m     \u001b[38;5;66;03m# Compute the duality pairing of the measure with a function defined on Omega\u001b[39;00m\n\u001b[0;32m---> 30\u001b[0m     \u001b[38;5;28;01mreturn\u001b[39;00m \u001b[38;5;28msum\u001b[39m([c \u001b[38;5;241m*\u001b[39m fct(x) \u001b[38;5;28;01mfor\u001b[39;00m x, c \u001b[38;5;129;01min\u001b[39;00m \u001b[38;5;28mzip\u001b[39m(\u001b[38;5;28mself\u001b[39m\u001b[38;5;241m.\u001b[39msupport, \u001b[38;5;28mself\u001b[39m\u001b[38;5;241m.\u001b[39mcoefficients)])\n",
      "File \u001b[0;32m~/Dokumente/lazified-generalized-conditional-gradient/lgcg/lib/measure.py:30\u001b[0m, in \u001b[0;36m<listcomp>\u001b[0;34m(.0)\u001b[0m\n\u001b[1;32m     28\u001b[0m \u001b[38;5;28;01mdef\u001b[39;00m \u001b[38;5;21mduality_pairing\u001b[39m(\u001b[38;5;28mself\u001b[39m, fct: Callable) \u001b[38;5;241m-\u001b[39m\u001b[38;5;241m>\u001b[39m \u001b[38;5;28mfloat\u001b[39m:\n\u001b[1;32m     29\u001b[0m     \u001b[38;5;66;03m# Compute the duality pairing of the measure with a function defined on Omega\u001b[39;00m\n\u001b[0;32m---> 30\u001b[0m     \u001b[38;5;28;01mreturn\u001b[39;00m \u001b[38;5;28msum\u001b[39m([c \u001b[38;5;241m*\u001b[39m \u001b[43mfct\u001b[49m\u001b[43m(\u001b[49m\u001b[43mx\u001b[49m\u001b[43m)\u001b[49m \u001b[38;5;28;01mfor\u001b[39;00m x, c \u001b[38;5;129;01min\u001b[39;00m \u001b[38;5;28mzip\u001b[39m(\u001b[38;5;28mself\u001b[39m\u001b[38;5;241m.\u001b[39msupport, \u001b[38;5;28mself\u001b[39m\u001b[38;5;241m.\u001b[39mcoefficients)])\n",
      "Cell \u001b[0;32mIn[2], line 12\u001b[0m, in \u001b[0;36m<lambda>\u001b[0;34m(x)\u001b[0m\n\u001b[1;32m     10\u001b[0m observations \u001b[38;5;241m=\u001b[39m np\u001b[38;5;241m.\u001b[39marray([obs \u001b[38;5;28;01mfor\u001b[39;00m obs \u001b[38;5;129;01min\u001b[39;00m observations \u001b[38;5;28;01mif\u001b[39;00m \u001b[38;5;28mall\u001b[39m(obs\u001b[38;5;241m!=\u001b[39m\u001b[38;5;241m0\u001b[39m) \u001b[38;5;129;01mand\u001b[39;00m \u001b[38;5;28mall\u001b[39m(obs\u001b[38;5;241m!=\u001b[39m\u001b[38;5;241m1\u001b[39m)])\n\u001b[1;32m     11\u001b[0m std_factor \u001b[38;5;241m=\u001b[39m \u001b[38;5;241m1\u001b[39m\n\u001b[0;32m---> 12\u001b[0m k \u001b[38;5;241m=\u001b[39m \u001b[38;5;28;01mlambda\u001b[39;00m x: np\u001b[38;5;241m.\u001b[39marray([np\u001b[38;5;241m.\u001b[39mexp(\u001b[38;5;241m-\u001b[39mnp\u001b[38;5;241m.\u001b[39mlinalg\u001b[38;5;241m.\u001b[39mnorm(point\u001b[38;5;241m-\u001b[39mx)\u001b[38;5;241m*\u001b[39m\u001b[38;5;241m*\u001b[39m\u001b[38;5;241m2\u001b[39m\u001b[38;5;241m/\u001b[39mstd_factor)\u001b[38;5;241m/\u001b[39mnp\u001b[38;5;241m.\u001b[39msqrt(std_factor\u001b[38;5;241m*\u001b[39mnp\u001b[38;5;241m.\u001b[39mpi)\u001b[38;5;241m*\u001b[39m\u001b[38;5;241m*\u001b[39mOmega\u001b[38;5;241m.\u001b[39mshape[\u001b[38;5;241m0\u001b[39m] \u001b[38;5;28;01mfor\u001b[39;00m point \u001b[38;5;129;01min\u001b[39;00m observations])\n\u001b[1;32m     13\u001b[0m true_sources \u001b[38;5;241m=\u001b[39m np\u001b[38;5;241m.\u001b[39marray([[\u001b[38;5;241m0.1\u001b[39m,\u001b[38;5;241m0.3\u001b[39m], [\u001b[38;5;241m0.25\u001b[39m,\u001b[38;5;241m0.8\u001b[39m], [\u001b[38;5;241m0.7\u001b[39m,\u001b[38;5;241m0.5\u001b[39m]])\n\u001b[1;32m     14\u001b[0m true_weights \u001b[38;5;241m=\u001b[39m np\u001b[38;5;241m.\u001b[39marray([\u001b[38;5;241m0.2\u001b[39m,\u001b[38;5;241m-\u001b[39m\u001b[38;5;241m1.1\u001b[39m,\u001b[38;5;241m0.8\u001b[39m])\n",
      "Cell \u001b[0;32mIn[2], line 12\u001b[0m, in \u001b[0;36m<listcomp>\u001b[0;34m(.0)\u001b[0m\n\u001b[1;32m     10\u001b[0m observations \u001b[38;5;241m=\u001b[39m np\u001b[38;5;241m.\u001b[39marray([obs \u001b[38;5;28;01mfor\u001b[39;00m obs \u001b[38;5;129;01min\u001b[39;00m observations \u001b[38;5;28;01mif\u001b[39;00m \u001b[38;5;28mall\u001b[39m(obs\u001b[38;5;241m!=\u001b[39m\u001b[38;5;241m0\u001b[39m) \u001b[38;5;129;01mand\u001b[39;00m \u001b[38;5;28mall\u001b[39m(obs\u001b[38;5;241m!=\u001b[39m\u001b[38;5;241m1\u001b[39m)])\n\u001b[1;32m     11\u001b[0m std_factor \u001b[38;5;241m=\u001b[39m \u001b[38;5;241m1\u001b[39m\n\u001b[0;32m---> 12\u001b[0m k \u001b[38;5;241m=\u001b[39m \u001b[38;5;28;01mlambda\u001b[39;00m x: np\u001b[38;5;241m.\u001b[39marray([np\u001b[38;5;241m.\u001b[39mexp(\u001b[38;5;241m-\u001b[39mnp\u001b[38;5;241m.\u001b[39mlinalg\u001b[38;5;241m.\u001b[39mnorm(point\u001b[38;5;241m-\u001b[39mx)\u001b[38;5;241m*\u001b[39m\u001b[38;5;241m*\u001b[39m\u001b[38;5;241m2\u001b[39m\u001b[38;5;241m/\u001b[39mstd_factor)\u001b[38;5;241m/\u001b[39m\u001b[43mnp\u001b[49m\u001b[38;5;241;43m.\u001b[39;49m\u001b[43msqrt\u001b[49m\u001b[43m(\u001b[49m\u001b[43mstd_factor\u001b[49m\u001b[38;5;241;43m*\u001b[39;49m\u001b[43mnp\u001b[49m\u001b[38;5;241;43m.\u001b[39;49m\u001b[43mpi\u001b[49m\u001b[43m)\u001b[49m\u001b[38;5;241m*\u001b[39m\u001b[38;5;241m*\u001b[39mOmega\u001b[38;5;241m.\u001b[39mshape[\u001b[38;5;241m0\u001b[39m] \u001b[38;5;28;01mfor\u001b[39;00m point \u001b[38;5;129;01min\u001b[39;00m observations])\n\u001b[1;32m     13\u001b[0m true_sources \u001b[38;5;241m=\u001b[39m np\u001b[38;5;241m.\u001b[39marray([[\u001b[38;5;241m0.1\u001b[39m,\u001b[38;5;241m0.3\u001b[39m], [\u001b[38;5;241m0.25\u001b[39m,\u001b[38;5;241m0.8\u001b[39m], [\u001b[38;5;241m0.7\u001b[39m,\u001b[38;5;241m0.5\u001b[39m]])\n\u001b[1;32m     14\u001b[0m true_weights \u001b[38;5;241m=\u001b[39m np\u001b[38;5;241m.\u001b[39marray([\u001b[38;5;241m0.2\u001b[39m,\u001b[38;5;241m-\u001b[39m\u001b[38;5;241m1.1\u001b[39m,\u001b[38;5;241m0.8\u001b[39m])\n",
      "\u001b[0;31mKeyboardInterrupt\u001b[0m: "
     ]
    }
   ],
   "source": [
    "u = exp.solve_exact(tol=1e-10)"
   ]
  },
  {
   "cell_type": "code",
   "execution_count": 30,
   "metadata": {},
   "outputs": [
    {
     "data": {
      "text/plain": [
       "array([0.00021874, 0.00038027, 0.00054881, 0.00072421, 0.00090631,\n",
       "       0.00109489, 0.00128975, 0.00149063, 0.00169726, 0.00190933,\n",
       "       0.00212654, 0.00234853, 0.00257493, 0.00280535, 0.00303939,\n",
       "       0.0032766 , 0.00351656, 0.00375878, 0.00400278, 0.00424808,\n",
       "       0.00449417, 0.00474052, 0.00498661, 0.00523191, 0.00547589,\n",
       "       0.00571799, 0.00595767, 0.00619441, 0.00642765, 0.00665687,\n",
       "       0.00688155, 0.00710115, 0.00731519, 0.00752316, 0.0077246 ,\n",
       "       0.00791903, 0.00810603, 0.00828516, 0.00845603, 0.00861826,\n",
       "       0.0087715 , 0.00891543, 0.00904974, 0.00917416, 0.00928845,\n",
       "       0.00939241, 0.00948584, 0.00956861, 0.00964058, 0.00970167,\n",
       "       0.00975182, 0.00979101, 0.00981925, 0.00983656, 0.00984303,\n",
       "       0.00983874, 0.00982382, 0.00979843, 0.00976274, 0.00971697,\n",
       "       0.00966134])"
      ]
     },
     "execution_count": 30,
     "metadata": {},
     "output_type": "execute_result"
    }
   ],
   "source": [
    "vals[0]"
   ]
  },
  {
   "cell_type": "code",
   "execution_count": 32,
   "metadata": {},
   "outputs": [
    {
     "name": "stderr",
     "output_type": "stream",
     "text": [
      "DEBUG:matplotlib.colorbar:locator: <matplotlib.ticker.FixedLocator object at 0x7f1865d01850>\n"
     ]
    },
    {
     "data": {
      "image/png": "[encoded data removed]",
      "text/plain": [
       "<Figure size 640x480 with 2 Axes>"
      ]
     },
     "metadata": {},
     "output_type": "display_data"
    }
   ],
   "source": [
    "u_tilde = Measure(support=[[0,1],[1,0.00300505]], coefficients=[-0.32461795, 0.29360698])\n",
    "P = lambda x: p(u_tilde)(x)\n",
    "a = np.arange(-0.1,1.1,0.02)\n",
    "B, D = np.meshgrid(a,a)\n",
    "vals = np.array([P(np.array([x_1,x_2])) for x_1, x_2 in zip(B.flatten(), D.flatten())]).reshape((61,61))\n",
    "\n",
    "plt.contourf(B, D, vals)\n",
    "plt.colorbar()\n",
    "plt.xlabel('b')\n",
    "plt.ylabel('d')\n",
    "plt.show()"
   ]
  },
  {
   "cell_type": "markdown",
   "metadata": {},
   "source": [
    "# Test Stochastic"
   ]
  },
  {
   "cell_type": "code",
   "execution_count": 3,
   "metadata": {},
   "outputs": [],
   "source": [
    "data_path = \"../../sisso/src/test/thermal_conductivity_data.csv\"\n",
    "exp = LGCG_stochastic(data_path=data_path, alpha=0.1)"
   ]
  },
  {
   "cell_type": "code",
   "execution_count": 4,
   "metadata": {},
   "outputs": [
    {
     "name": "stderr",
     "output_type": "stream",
     "text": [
      "INFO:root:---------------------\n",
      "INFO:root:---------------------\n"
     ]
    },
    {
     "name": "stdout",
     "output_type": "stream",
     "text": [
      "Time to generate feat space: 262.406 s\n"
     ]
    },
    {
     "name": "stderr",
     "output_type": "stream",
     "text": [
      "INFO:root:0.9755782288434427\n",
      "INFO:root:1\n",
      "INFO:root:K []\n",
      "INFO:root:[0.01650826 0.08398484 0.03875523 0.03877598 0.04318637 0.04194306\n",
      " 0.04804311 0.06922419 0.08354961 0.11852333 0.04570393 0.04838697\n",
      " 0.06082152 0.04974988 0.03391667 0.03654056 0.03532187 0.03515929\n",
      " 0.04248941 0.04185097 0.0362112  0.07187031 0.0379061  0.04252391\n",
      " 0.03777911 0.13475375 0.12981585 0.11154833 0.34266939 0.21564257\n",
      " 0.06654163 0.12626913 0.13974483 0.09623659 0.11400463 0.09425901\n",
      " 0.15303787 0.08798618 0.07927755 0.18412779 0.18997568 0.23295921\n",
      " 0.08915301 0.20109564 0.13541286 0.09429843 0.07918945 0.06793185\n",
      " 0.06641488 0.1338539  0.12592129 0.12139781 0.13090409 0.1034475\n",
      " 0.08834254 0.1011218  0.05419033 0.06345643 0.05942181 0.05300143\n",
      " 0.0721522  0.09091953 0.08603043 0.10407362 0.1014441  0.065165\n",
      " 0.19817434 0.27812532 0.24831032 0.06895994 0.13319063 0.11928598\n",
      " 0.08974987 0.10409334 0.06904784]\n",
      "/vol/cs-hu/hnatiuar@hu-berlin.de/Dokumente/lazified-generalized-conditional-gradient/lgcg/lgcg_stochastic.py:226: FutureWarning: elementwise comparison failed; returning scalar instead, but in the future will perform elementwise comparison\n",
      "  if x_dict[\"expression\"] in active_expressions:\n",
      "/vol/cs-hu/hnatiuar@hu-berlin.de/Dokumente/lazified-generalized-conditional-gradient/lgcg/lgcg_stochastic.py:265: FutureWarning: elementwise comparison failed; returning scalar instead, but in the future will perform elementwise comparison\n",
      "  if x_dict[\"expression\"] in active_expressions:\n",
      "INFO:root:u [-0.21889456]\n",
      "DEBUG:root:SSN in 1 dimensions converged in 1 iterations to tolerance 5.050E+00\n",
      "INFO:root:SSN found a different solution\n",
      "INFO:root:u_raw [0.30365832]\n",
      "INFO:root:[0]\n",
      "INFO:root:---------------------\n",
      "INFO:root:---------------------\n"
     ]
    },
    {
     "name": "stdout",
     "output_type": "stream",
     "text": [
      "Time to generate feat space: 262.994 s\n"
     ]
    },
    {
     "name": "stderr",
     "output_type": "stream",
     "text": [
      "INFO:root:0.9539958314747843\n",
      "INFO:root:1\n",
      "INFO:root:['((omega_Gamma_max / sigma_os) / (Theta_p * L_min_prim))']\n",
      "INFO:root:2: Phi 3.106E+00, epsilon 6.361E+00, support 1, Psi 5.050E+00\n",
      "INFO:root:K [[0.01650826 0.08398484 0.03875523 0.03877598 0.04318637 0.04194306\n",
      "  0.04804311 0.06922419 0.08354961 0.11852333 0.04570393 0.04838697\n",
      "  0.06082152 0.04974988 0.03391667 0.03654056 0.03532187 0.03515929\n",
      "  0.04248941 0.04185097 0.0362112  0.07187031 0.0379061  0.04252391\n",
      "  0.03777911 0.13475375 0.12981585 0.11154833 0.34266939 0.21564257\n",
      "  0.06654163 0.12626913 0.13974483 0.09623659 0.11400463 0.09425901\n",
      "  0.15303787 0.08798618 0.07927755 0.18412779 0.18997568 0.23295921\n",
      "  0.08915301 0.20109564 0.13541286 0.09429843 0.07918945 0.06793185\n",
      "  0.06641488 0.1338539  0.12592129 0.12139781 0.13090409 0.1034475\n",
      "  0.08834254 0.1011218  0.05419033 0.06345643 0.05942181 0.05300143\n",
      "  0.0721522  0.09091953 0.08603043 0.10407362 0.1014441  0.065165\n",
      "  0.19817434 0.27812532 0.24831032 0.06895994 0.13319063 0.11928598\n",
      "  0.08974987 0.10409334 0.06904784]]\n",
      "INFO:root:[0.03025723 0.08622215 0.06749971 0.07652336 0.07095505 0.06954595\n",
      " 0.08132073 0.07232291 0.14020944 0.09611855 0.06798253 0.07317839\n",
      " 0.07228934 0.06966046 0.04045889 0.0307534  0.03337375 0.05491006\n",
      " 0.06627846 0.06319881 0.05495144 0.07632915 0.04693996 0.05943613\n",
      " 0.04475115 0.15704633 0.17993819 0.1644496  0.22725957 0.20608784\n",
      " 0.08593585 0.11734913 0.12356526 0.10749054 0.14297693 0.10251115\n",
      " 0.20692737 0.11139006 0.09348372 0.18575689 0.17461764 0.21471522\n",
      " 0.1377771  0.18832448 0.15070341 0.10421752 0.09561752 0.10241551\n",
      " 0.09107297 0.08017121 0.07872202 0.08463187 0.07692514 0.15012624\n",
      " 0.06153398 0.09581779 0.08713188 0.07163004 0.07886835 0.05917368\n",
      " 0.06851747 0.09612798 0.08980283 0.0988016  0.10332324 0.07041129\n",
      " 0.21370455 0.18817734 0.2283877  0.08336484 0.1469547  0.11251109\n",
      " 0.09234312 0.08661614 0.09600518]\n",
      "INFO:root:u [ 0.29422563 -0.15531759]\n",
      "DEBUG:root:SSN in 2 dimensions converged in 0 iterations to tolerance 5.050E+00\n",
      "INFO:root:SSN found a different solution\n",
      "INFO:root:u_raw [ 0.29422563 -0.15531759]\n",
      "INFO:root:[0 1]\n",
      "INFO:root:---------------------\n"
     ]
    }
   ],
   "source": [
    "exp.solve(tol=1e-7)"
   ]
  },
  {
   "cell_type": "code",
   "execution_count": null,
   "metadata": {},
   "outputs": [],
   "source": []
  }
 ],
 "metadata": {
  "kernelspec": {
   "display_name": "conda_env_lgcg",
   "language": "python",
   "name": "python3"
  },
  "language_info": {
   "codemirror_mode": {
    "name": "ipython",
    "version": 3
   },
   "file_extension": ".py",
   "mimetype": "text/x-python",
   "name": "python",
   "nbconvert_exporter": "python",
   "pygments_lexer": "ipython3",
   "version": "3.9.19"
  }
 },
 "nbformat": 4,
 "nbformat_minor": 2
}

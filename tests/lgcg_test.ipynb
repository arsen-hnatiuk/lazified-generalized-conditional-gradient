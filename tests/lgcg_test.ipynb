{
 "cells": [
  {
   "cell_type": "code",
   "execution_count": 1,
   "metadata": {},
   "outputs": [],
   "source": [
    "import numpy as np"
   ]
  },
  {
   "cell_type": "markdown",
   "metadata": {},
   "source": [
    "# Generate Data"
   ]
  },
  {
   "cell_type": "code",
   "execution_count": 33,
   "metadata": {},
   "outputs": [],
   "source": [
    "Omega = np.array([[0,1],[0,1]])\n",
    "observation_resolution = 5\n",
    "observations = (np.array(np.meshgrid(\n",
    "                    *(\n",
    "                        np.linspace(bound[0], bound[1], observation_resolution)\n",
    "                        for bound in Omega\n",
    "                    ))\n",
    "            ).reshape(len(Omega), -1).T)\n",
    "std_factor = 0.5\n",
    "k = lambda x: np.array([np.exp(-np.linalg.norm(point-x)**2/std_factor)/np.sqrt(std_factor*np.pi)**Omega.shape[0] for point in observations])\n",
    "true_sources = np.array([[0.1,0.3], [0.25,0.8], [0.7,0.5]])\n",
    "true_weights = np.array([5,-3,7])\n",
    "target = sum([weight*k(source) for weight, source in zip(true_weights, true_sources)])\n",
    "norm_K_star = np.sqrt(len(observations)/(std_factor*np.pi))\n",
    "norm_K_star_L = 2*np.sqrt(len(observations)*Omega.shape[0]/(np.pi*std_factor**3))/std_factor"
   ]
  },
  {
   "cell_type": "code",
   "execution_count": 34,
   "metadata": {},
   "outputs": [],
   "source": [
    "def p_raw(u, k, target):\n",
    "    def p_u(x):\n",
    "        Ku = sum(k(x)*c for c, x in zip(u.coefficients, u.support))\n",
    "        inner = Ku-target\n",
    "        return -np.dot(inner, k(x))\n",
    "    return p_u\n",
    "\n",
    "p = lambda u: p_raw(u, k=k, target=target)"
   ]
  },
  {
   "cell_type": "code",
   "execution_count": 35,
   "metadata": {},
   "outputs": [],
   "source": [
    "def grad_P_raw(k, target, observations, std_factor):\n",
    "    def grad_P(u, x):\n",
    "        def p_u(x):\n",
    "            Ku = sum(k(x)*c for c, x in zip(u.coefficients, u.support))\n",
    "            inner = Ku-target\n",
    "            return -np.dot(inner, k(x))\n",
    "        p = p_u(u)\n",
    "        Ku = sum(k(x)*c for c, x in zip(u.coefficients, u.support))\n",
    "        inner = Ku-target\n",
    "        second_inner = k(x)*2/std_factor\n",
    "        vector_part = sum([inr*second_inr*(obs-x) for inr, second_inr, obs in zip(inner, second_inner, observations)])\n",
    "        return -np.sign(p(x))*vector_part\n",
    "    return grad_P\n",
    "\n",
    "grad_P = grad_P_raw(k, target, observations, std_factor)"
   ]
  },
  {
   "cell_type": "code",
   "execution_count": 30,
   "metadata": {},
   "outputs": [
    {
     "data": {
      "text/plain": [
       "array([3.15191494, 3.81351948, 3.95712709, 3.50943456, 2.61142507,\n",
       "       3.66011727, 4.6079549 , 5.00984175, 4.64102819, 3.57307225,\n",
       "       3.14489828, 4.18610067, 4.83961186, 4.72874385, 3.78584505,\n",
       "       1.87996289, 2.75232252, 3.49495837, 3.67245274, 3.08807258,\n",
       "       0.62956544, 1.18183781, 1.80673047, 2.13326966, 1.92170735])"
      ]
     },
     "execution_count": 30,
     "metadata": {},
     "output_type": "execute_result"
    }
   ],
   "source": [
    "target"
   ]
  },
  {
   "cell_type": "code",
   "execution_count": 22,
   "metadata": {},
   "outputs": [
    {
     "data": {
      "text/plain": [
       "array([[0.  , 0.  ],\n",
       "       [0.25, 0.  ],\n",
       "       [0.5 , 0.  ],\n",
       "       [0.75, 0.  ],\n",
       "       [1.  , 0.  ],\n",
       "       [0.  , 0.25],\n",
       "       [0.25, 0.25],\n",
       "       [0.5 , 0.25],\n",
       "       [0.75, 0.25],\n",
       "       [1.  , 0.25],\n",
       "       [0.  , 0.5 ],\n",
       "       [0.25, 0.5 ],\n",
       "       [0.5 , 0.5 ],\n",
       "       [0.75, 0.5 ],\n",
       "       [1.  , 0.5 ],\n",
       "       [0.  , 0.75],\n",
       "       [0.25, 0.75],\n",
       "       [0.5 , 0.75],\n",
       "       [0.75, 0.75],\n",
       "       [1.  , 0.75],\n",
       "       [0.  , 1.  ],\n",
       "       [0.25, 1.  ],\n",
       "       [0.5 , 1.  ],\n",
       "       [0.75, 1.  ],\n",
       "       [1.  , 1.  ]])"
      ]
     },
     "execution_count": 22,
     "metadata": {},
     "output_type": "execute_result"
    }
   ],
   "source": [
    "observations"
   ]
  },
  {
   "cell_type": "code",
   "execution_count": null,
   "metadata": {},
   "outputs": [],
   "source": []
  }
 ],
 "metadata": {
  "kernelspec": {
   "display_name": "conda_env_lgcg",
   "language": "python",
   "name": "python3"
  },
  "language_info": {
   "codemirror_mode": {
    "name": "ipython",
    "version": 3
   },
   "file_extension": ".py",
   "mimetype": "text/x-python",
   "name": "python",
   "nbconvert_exporter": "python",
   "pygments_lexer": "ipython3",
   "version": "3.10.13"
  }
 },
 "nbformat": 4,
 "nbformat_minor": 2
}

{
 "cells": [
  {
   "cell_type": "code",
   "execution_count": 1,
   "metadata": {},
   "outputs": [],
   "source": [
    "import numpy as np\n",
    "import os\n",
    "import sys\n",
    "import matplotlib.pyplot as plt\n",
    "from mpl_toolkits.mplot3d import Axes3D\n",
    "module_path = os.path.abspath(os.path.join('..'))\n",
    "if module_path not in sys.path:\n",
    "    sys.path.append(module_path)\n",
    "lgcg_path = os.path.abspath(os.path.join('../lgcg'))\n",
    "if lgcg_path not in sys.path:\n",
    "    sys.path.append(lgcg_path)\n",
    "from lib.measure import Measure\n",
    "# from lgcg_stochastic import LGCG_stochastic\n",
    "from lgcg import LGCG"
   ]
  },
  {
   "cell_type": "markdown",
   "metadata": {},
   "source": [
    "# Generate Data and Define Functions"
   ]
  },
  {
   "cell_type": "code",
   "execution_count": 2,
   "metadata": {},
   "outputs": [],
   "source": [
    "Omega = np.array([[0,1],[0,1]])\n",
    "alpha = 0.1\n",
    "observation_resolution = 4\n",
    "observations = (np.array(np.meshgrid(\n",
    "                    *(\n",
    "                        np.linspace(bound[0], bound[1], observation_resolution+2)\n",
    "                        for bound in Omega\n",
    "                    ))\n",
    "            ).reshape(len(Omega), -1).T)\n",
    "observations = np.array([obs for obs in observations if all(obs!=0) and all(obs!=1)])\n",
    "std_factor = 1\n",
    "k = lambda x: np.array([np.exp(-np.linalg.norm(point-x)**2/std_factor)/np.sqrt(std_factor*np.pi)**Omega.shape[0] for point in observations])\n",
    "true_sources = np.array([[0.1,0.3]])\n",
    "true_weights = np.array([1])\n",
    "u_bar = Measure(support=true_sources, coefficients=true_weights)\n",
    "target = u_bar.duality_pairing(k)\n",
    "norm_K_star = np.sqrt(len(observations)/(std_factor*np.pi)**Omega.shape[0])\n",
    "norm_K_star_L = np.sqrt(0.5*std_factor*len(observations)/(np.pi*std_factor)**Omega.shape[0])"
   ]
  },
  {
   "cell_type": "code",
   "execution_count": 3,
   "metadata": {},
   "outputs": [],
   "source": [
    "g = lambda u: alpha * np.linalg.norm(u, ord=1)\n",
    "f = lambda u: 0.5 * np.linalg.norm(sum(c * k(x) for x, c in zip(u.support, u.coefficients)) - target) ** 2"
   ]
  },
  {
   "cell_type": "code",
   "execution_count": 4,
   "metadata": {},
   "outputs": [],
   "source": [
    "def p_raw(u, k, target):\n",
    "    def p_u(x):\n",
    "        Ku = u.duality_pairing(k)\n",
    "        inner = Ku-target\n",
    "        return -np.dot(inner, k(x))\n",
    "    return p_u\n",
    "\n",
    "p = lambda u: p_raw(u, k=k, target=target)"
   ]
  },
  {
   "cell_type": "code",
   "execution_count": 5,
   "metadata": {},
   "outputs": [],
   "source": [
    "def grad_k_raw(observations, std_factor):\n",
    "    def grad_k(x):\n",
    "        return np.array([2*(point-x)*np.exp(-np.linalg.norm(point-x)**2/std_factor)/(std_factor*np.sqrt(std_factor*np.pi)**Omega.shape[0]) for point in observations])\n",
    "    return grad_k\n",
    "\n",
    "grad_k = grad_k_raw(observations, std_factor) # The Jacobian of k, shape=(len(observations), Omega.shape[0])"
   ]
  },
  {
   "cell_type": "code",
   "execution_count": 6,
   "metadata": {},
   "outputs": [],
   "source": [
    "def hess_k_raw(observations, std_factor):\n",
    "    def hess_k(x):\n",
    "        first_part = lambda point: -2*np.eye(Omega.shape[0])*np.exp(-np.linalg.norm(point-x)**2/std_factor)/(std_factor*np.sqrt(std_factor*np.pi)**Omega.shape[0])\n",
    "        second_part = lambda point: 4*np.dot((point-x).reshape(-1,1), np.array([point-x]))*np.exp(-np.linalg.norm(point-x)**2/std_factor)/(std_factor**2*np.sqrt(std_factor*np.pi)**Omega.shape[0])\n",
    "        return np.array([first_part(point)+second_part(point) for point in observations])\n",
    "    return hess_k\n",
    "\n",
    "hess_k = hess_k_raw(observations, std_factor) # The derivative of the Jacobian of k, shape=(len(observations), Omega.shape[0], Omega.shape[0])"
   ]
  },
  {
   "cell_type": "code",
   "execution_count": 7,
   "metadata": {},
   "outputs": [],
   "source": [
    "def grad_P_raw(k, target, observations, std_factor):\n",
    "    grad_k = grad_k_raw(observations, std_factor)\n",
    "    def grad_P(x,u):\n",
    "        p_u = p_raw(u, k, target)\n",
    "        inner = target-u.duality_pairing(k)\n",
    "        return np.sign(p_u(x))*np.matmul(grad_k(x).T, inner)\n",
    "    return grad_P\n",
    "\n",
    "grad_P = grad_P_raw(k, target, observations, std_factor)"
   ]
  },
  {
   "cell_type": "code",
   "execution_count": 8,
   "metadata": {},
   "outputs": [],
   "source": [
    "def hess_P_raw(k, target, observations, std_factor):\n",
    "    hess_k = hess_k_raw(observations, std_factor)\n",
    "    def hess_P(x,u):\n",
    "        p_u = p_raw(u, k, target)\n",
    "        inner = target-u.duality_pairing(k)\n",
    "        return np.sign(p_u(x))*np.tensordot(hess_k(x),inner,axes=([0,0]))\n",
    "    return hess_P\n",
    "\n",
    "hess_P = hess_P_raw(k, target, observations, std_factor)"
   ]
  },
  {
   "cell_type": "code",
   "execution_count": 9,
   "metadata": {},
   "outputs": [],
   "source": [
    "def get_grad_j(k, grad_k, alpha, target):\n",
    "    def grad_j(positions, coefs):\n",
    "        to_return = []\n",
    "        grad_F = (\n",
    "            np.sum(\n",
    "                np.array([c * k(x) for x, c in zip(positions, coefs)]),\n",
    "                axis=0,\n",
    "            )\n",
    "            - target\n",
    "        )\n",
    "        for ind, x in enumerate(positions):\n",
    "            # nabla_x_ind\n",
    "            array = coefs[ind] * np.matmul(grad_k(x).T, grad_F)\n",
    "            to_return += array.tolist()\n",
    "        # nabla_u\n",
    "        K = np.array([k(x) for x in positions])\n",
    "        to_return += (np.dot(K, grad_F) + alpha * np.sign(coefs)).tolist()\n",
    "        return np.array(to_return)\n",
    "    return grad_j\n",
    "\n",
    "grad_j = get_grad_j(k, grad_k, alpha, target)"
   ]
  },
  {
   "cell_type": "code",
   "execution_count": 10,
   "metadata": {},
   "outputs": [],
   "source": [
    "def get_hess_j(k, grad_k, hess_k, target):\n",
    "    def hess_j(positions, coefs):\n",
    "        matrix_dimension = len(positions)*Omega.shape[0] + len(coefs)\n",
    "        hesse_matrix = np.zeros((matrix_dimension, matrix_dimension))\n",
    "        step = Omega.shape[0]\n",
    "        coefs_delay = step*len(positions)\n",
    "        inner = sum(k(x)*c for c, x in zip(coefs, positions))-target\n",
    "        for i, position in enumerate(positions):\n",
    "            # nabla_{x_i,x_j}\n",
    "            for j, other_position in enumerate(positions):\n",
    "                if j<i:\n",
    "                    continue\n",
    "                block = coefs[i]*coefs[j]*np.matmul(grad_k(position).T, grad_k(other_position))\n",
    "                if i==j:\n",
    "                    block += coefs[i]*np.tensordot(hess_k(position),inner,axes=([0,0]))\n",
    "                hesse_matrix[i*step:(i+1)*step, j*step:(j+1)*step] = block\n",
    "                hesse_matrix[j*step:(j+1)*step, i*step:(i+1)*step] = block.T\n",
    "            # nabla_{x_i,u_j}\n",
    "            for j, coef in enumerate(coefs):\n",
    "                block = coefs[i]*np.matmul(grad_k(position).T, k(positions[j]))\n",
    "                if i == j:\n",
    "                    block += np.matmul(grad_k(position).T, inner)\n",
    "                hesse_matrix[i*step:(i+1)*step, coefs_delay+j] = block\n",
    "                hesse_matrix[coefs_delay+j, i*step:(i+1)*step] = block.T\n",
    "        for i, coef in enumerate(coefs):\n",
    "            # nabla_{u_i,u_j}\n",
    "            for j, other_coef in enumerate(coefs):\n",
    "                if j<i:\n",
    "                    continue\n",
    "                block = np.dot(k(positions[i]), k(positions[j]))\n",
    "                hesse_matrix[coefs_delay+i,coefs_delay+j] = block\n",
    "                hesse_matrix[coefs_delay+j,coefs_delay+i] = block\n",
    "        return hesse_matrix\n",
    "    return hess_j\n",
    "\n",
    "hess_j = get_hess_j(k, grad_k, hess_k, target)"
   ]
  },
  {
   "cell_type": "code",
   "execution_count": 11,
   "metadata": {},
   "outputs": [],
   "source": [
    "gamma = 0.5\n",
    "theta = 1e-1\n",
    "sigma = 2e-3\n",
    "m = 1e-2\n",
    "bar_m = 1e1\n",
    "L = 1\n",
    "R = 5e-2"
   ]
  },
  {
   "cell_type": "markdown",
   "metadata": {},
   "source": [
    "# Test LGCG"
   ]
  },
  {
   "cell_type": "code",
   "execution_count": 12,
   "metadata": {},
   "outputs": [],
   "source": [
    "exp = LGCG(target=target, \n",
    "           k=k, \n",
    "           g=g, \n",
    "           f=f,\n",
    "           p=p,\n",
    "           grad_P=grad_P,\n",
    "           hess_P=hess_P,\n",
    "           norm_K_star=norm_K_star,\n",
    "           norm_K_star_L=norm_K_star_L,\n",
    "           grad_j=grad_j,\n",
    "           hess_j=hess_j,\n",
    "           alpha=alpha,\n",
    "           Omega=Omega,\n",
    "           gamma=gamma,\n",
    "           theta=theta,\n",
    "           sigma=sigma,\n",
    "           m=m,\n",
    "           bar_m=bar_m,\n",
    "           L=L,\n",
    "           R=R\n",
    "           )"
   ]
  },
  {
   "cell_type": "code",
   "execution_count": 15,
   "metadata": {},
   "outputs": [
    {
     "name": "stdout",
     "output_type": "stream",
     "text": [
      "[0.009999995687565181]\n",
      "4.1561571840348366e-09\n"
     ]
    }
   ],
   "source": [
    "support = [[0.13439718,0.31639137]]\n",
    "coefs = [0.96376116]\n",
    "u =Measure(support=support, coefficients=coefs)\n",
    "print([p(u)(x) for x in support])\n",
    "print(g(coefs)-u.duality_pairing(p(u)))"
   ]
  },
  {
   "cell_type": "code",
   "execution_count": 13,
   "metadata": {},
   "outputs": [
    {
     "name": "stderr",
     "output_type": "stream",
     "text": [
      "DEBUG:root:SSN in 1 dimensions converged in 4 iterations to tolerance 1.000E-12\n",
      "INFO:root:1: P_value:3.061E-02, support: [[0.45903559 0.47938753]], coefs: [0.83110663], x: [0.         0.13305221]\n",
      "DEBUG:root:SSN in 2 dimensions converged in 6 iterations to tolerance 1.000E-12\n",
      "INFO:root:2: P_value:4.464E-03, support: [[0.         0.13305221]\n",
      " [0.45903559 0.47938753]], coefs: [0.73725528 0.30743963], x: [0.04100485 0.73406357]\n",
      "DEBUG:root:SSN in 3 dimensions converged in 6 iterations to tolerance 1.000E-12\n",
      "INFO:root:3: P_value:1.150E-03, support: [[0.         0.13305221]\n",
      " [0.04100485 0.73406357]\n",
      " [0.45903559 0.47938753]], coefs: [0.69194948 0.13716674 0.23135346], x: [0.16249789 0.41273316]\n",
      "DEBUG:root:SSN in 4 dimensions converged in 15 iterations to tolerance 1.000E-12\n",
      "INFO:root:4: P_value:9.269E-04, support: [[0.         0.13305221]\n",
      " [0.16249789 0.41273316]], coefs: [0.31764612 0.6736284 ], x: [0.29899428 0.1518932 ]\n",
      "DEBUG:root:SSN in 3 dimensions converged in 6 iterations to tolerance 1.000E-12\n",
      "INFO:root:5: P_value:3.547E-04, support: [[0.         0.13305221]\n",
      " [0.16249789 0.41273316]\n",
      " [0.29899428 0.1518932 ]], coefs: [0.26894128 0.63421771 0.08157004], x: [0.13389338 0.23673398]\n",
      "DEBUG:root:SSN in 4 dimensions converged in 6 iterations to tolerance 1.000E-12\n",
      "INFO:root:6: P_value:1.960E-04, support: [[0.13389338 0.23673398]\n",
      " [0.16249789 0.41273316]], coefs: [0.56230753 0.40294824], x: [0.0543894 0.3540491]\n",
      "DEBUG:root:SSN in 3 dimensions converged in 6 iterations to tolerance 1.000E-12\n",
      "INFO:root:7: P_value:8.077E-05, support: [[0.0543894  0.3540491 ]\n",
      " [0.13389338 0.23673398]\n",
      " [0.16249789 0.41273316]], coefs: [0.12756778 0.50953966 0.33460506], x: [0.13702443 0.32784593]\n",
      "DEBUG:root:SSN in 4 dimensions converged in 658 iterations to tolerance 1.000E-12\n",
      "INFO:root:8: P_value:2.341E-05, support: [[0.13389338 0.23673398]\n",
      " [0.13702443 0.32784593]], coefs: [0.08506323 0.87691327], x: [0.12027897 0.28461008]\n",
      "DEBUG:root:SSN in 3 dimensions converged in 1247 iterations to tolerance 1.000E-12\n",
      "INFO:root:9: P_value:8.876E-06, support: [[0.12027897 0.28461008]\n",
      " [0.13702443 0.32784593]], coefs: [0.21759129 0.7466238 ], x: [0.14431558 0.29804289]\n",
      "DEBUG:root:SSN in 3 dimensions converged in 6 iterations to tolerance 1.000E-12\n",
      "INFO:root:10: P_value:6.160E-06, support: [[0.12027897 0.28461008]\n",
      " [0.13702443 0.32784593]\n",
      " [0.14431558 0.29804289]], coefs: [0.12818788 0.67483125 0.15985501], x: [0.1227646  0.30941655]\n",
      "DEBUG:root:SSN in 4 dimensions converged in 964 iterations to tolerance 1.000E-12\n",
      "INFO:root:11: P_value:2.384E-06, support: [[0.1227646  0.30941655]\n",
      " [0.13702443 0.32784593]\n",
      " [0.14431558 0.29804289]], coefs: [0.29010395 0.49498511 0.17890359], x: [0.13681119 0.31217639]\n",
      "DEBUG:root:SSN in 4 dimensions converged in 53575 iterations to tolerance 1.000E-12\n",
      "INFO:root:12: P_value:1.636E-06, support: [[0.1227646  0.30941655]\n",
      " [0.13681119 0.31217639]\n",
      " [0.13702443 0.32784593]], coefs: [0.10917371 0.60350685 0.25075916], x: [0.12736045 0.32104139]\n",
      "DEBUG:root:SSN in 4 dimensions converged in 6767 iterations to tolerance 1.000E-12\n",
      "INFO:root:13: P_value:6.397E-07, support: [[0.12736045 0.32104139]\n",
      " [0.13681119 0.31217639]\n",
      " [0.13702443 0.32784593]], coefs: [0.25927069 0.61761213 0.08709872], x: [0.13487917 0.32022621]\n",
      "DEBUG:root:SSN in 4 dimensions converged in 66140 iterations to tolerance 1.000E-12\n",
      "INFO:root:14: P_value:5.907E-04, support: [[0.13111981 0.3206338 ]\n",
      " [0.13681119 0.31217639]], coefs: [0.51072684 0.45275056], x: [0.15329499 0.32105928]\n",
      "DEBUG:root:SSN in 3 dimensions converged in 3389 iterations to tolerance 1.000E-12\n",
      "INFO:root:15: P_value:3.485E-07, support: [[0.13111981 0.3206338 ]\n",
      " [0.13681119 0.31217639]], coefs: [0.45632767 0.50767809], x: [0.13637365 0.31820915]\n",
      "DEBUG:root:SSN in 3 dimensions converged in 5 iterations to tolerance 1.000E-12\n",
      "INFO:root:16: P_value:-1.542E-04, support: [[0.13527896 0.31579893]], coefs: [0.96357843], x: [0.12330744 0.32061248]\n",
      "DEBUG:root:SSN in 2 dimensions converged in 6 iterations to tolerance 1.000E-12\n",
      "INFO:root:17: P_value:5.278E-07, support: [[0.12330744 0.32061248]\n",
      " [0.13527896 0.31579893]], coefs: [0.02840233 0.93518822], x: [0.13005448 0.32102087]\n",
      "DEBUG:root:SSN in 3 dimensions converged in 396 iterations to tolerance 1.000E-12\n",
      "INFO:root:18: P_value:6.213E-04, support: [[0.13266672 0.3184099 ]], coefs: [0.96358136], x: [0.16362517 0.30502626]\n",
      "DEBUG:root:SSN in 2 dimensions converged in 6 iterations to tolerance 1.000E-12\n",
      "INFO:root:19: P_value:4.718E-06, support: [[0.13266672 0.3184099 ]\n",
      " [0.16362517 0.30502626]], coefs: [0.94507183 0.01885106], x: [0.14439042 0.29923389]\n",
      "DEBUG:root:SSN in 3 dimensions converged in 1293 iterations to tolerance 1.000E-12\n",
      "INFO:root:20: P_value:1.301E-06, support: [[0.13266672 0.3184099 ]\n",
      " [0.14439042 0.29923389]], coefs: [0.89054674 0.07356714], x: [0.14122589 0.31059686]\n",
      "DEBUG:root:SSN in 3 dimensions converged in 6142 iterations to tolerance 1.000E-12\n",
      "INFO:root:21: P_value:4.412E-07, support: [[0.13266672 0.3184099 ]\n",
      " [0.14122589 0.31059686]], coefs: [0.77325881 0.1904063 ], x: [0.13501999 0.31193677]\n",
      "DEBUG:root:SSN in 3 dimensions converged in 6 iterations to tolerance 1.000E-12\n",
      "INFO:root:22: P_value:-1.129E-03, support: [[0.13753462 0.3128851 ]], coefs: [0.9641329], x: [0.07585402 0.33904682]\n",
      "DEBUG:root:SSN in 2 dimensions converged in 5 iterations to tolerance 1.000E-12\n",
      "INFO:root:23: P_value:1.801E-05, support: [[0.07585402 0.33904682]\n",
      " [0.13753462 0.3128851 ]], coefs: [0.0091689  0.95410657], x: [0.11342702 0.34926422]\n",
      "DEBUG:root:SSN in 3 dimensions converged in 550 iterations to tolerance 1.000E-12\n",
      "INFO:root:24: P_value:4.723E-06, support: [[0.11342702 0.34926422]\n",
      " [0.13753462 0.3128851 ]], coefs: [0.0627676 0.9005217], x: [0.12183074 0.328311  ]\n",
      "DEBUG:root:SSN in 3 dimensions converged in 3925 iterations to tolerance 1.000E-12\n",
      "INFO:root:25: P_value:1.298E-06, support: [[0.12183074 0.328311  ]\n",
      " [0.13753462 0.3128851 ]], coefs: [0.17613624 0.78773015], x: [0.13178211 0.32318766]\n",
      "DEBUG:root:SSN in 3 dimensions converged in 63197 iterations to tolerance 1.000E-12\n",
      "INFO:root:26: P_value:1.190E-06, support: [[0.13178211 0.32318766]\n",
      " [0.13753462 0.3128851 ]], coefs: [0.36222794 0.60089586], x: [0.12732804 0.31363288]\n",
      "DEBUG:root:SSN in 3 dimensions converged in 5 iterations to tolerance 1.000E-12\n",
      "INFO:root:27: P_value:4.074E-07, support: [[0.12732804 0.31363288]\n",
      " [0.13178211 0.32318766]\n",
      " [0.13753462 0.3128851 ]], coefs: [0.0910652  0.32033729 0.55224138], x: [0.13237845 0.3166682 ]\n",
      "DEBUG:root:SSN in 4 dimensions converged in 69478 iterations to tolerance 1.000E-12\n",
      "INFO:root:28: P_value:-6.737E-04, support: [[0.13480745 0.31640651]], coefs: [0.96418901], x: [0.11337905 0.30722083]\n",
      "DEBUG:root:SSN in 2 dimensions converged in 1152 iterations to tolerance 1.000E-12\n",
      "INFO:root:29: P_value:1.403E-07, support: [[0.13480745 0.31640651]], coefs: [0.96352083], x: [0.13129754 0.31653684]\n",
      "DEBUG:root:SSN in 2 dimensions converged in 5 iterations to tolerance 1.000E-12\n",
      "INFO:root:30: P_value:8.880E-04, support: [[0.13305249 0.31647168]], coefs: [0.96365264], x: [0.16533443 0.32586286]\n",
      "DEBUG:root:SSN in 2 dimensions converged in 2439 iterations to tolerance 1.000E-12\n",
      "INFO:root:31: P_value:1.555E-06, support: [[0.13305249 0.31647168]], coefs: [0.96451345], x: [0.14482765 0.31471961]\n",
      "DEBUG:root:SSN in 2 dimensions converged in 5 iterations to tolerance 1.000E-12\n",
      "INFO:root:32: P_value:3.959E-07, support: [[0.13305249 0.31647168]\n",
      " [0.14482765 0.31471961]], coefs: [0.90360215 0.06052241], x: [0.13897474 0.31626563]\n",
      "DEBUG:root:SSN in 3 dimensions converged in 43511 iterations to tolerance 1.000E-12\n",
      "INFO:root:33: P_value:-1.035E-03, support: [[0.13601362 0.31636865]], coefs: [0.96387673], x: [0.09346903 0.30324054]\n",
      "DEBUG:root:SSN in 2 dimensions converged in 456 iterations to tolerance 1.000E-12\n",
      "INFO:root:34: P_value:2.170E-06, support: [[0.13601362 0.31636865]], coefs: [0.96283971], x: [0.12226996 0.31776281]\n",
      "DEBUG:root:SSN in 2 dimensions converged in 5 iterations to tolerance 1.000E-12\n",
      "INFO:root:35: P_value:5.446E-07, support: [[0.12226996 0.31776281]\n",
      " [0.13601362 0.31636865]], coefs: [0.06457351 0.89877609], x: [0.12913731 0.31623101]\n"
     ]
    },
    {
     "ename": "KeyboardInterrupt",
     "evalue": "",
     "output_type": "error",
     "traceback": [
      "\u001b[0;31m---------------------------------------------------------------------------\u001b[0m",
      "\u001b[0;31mKeyboardInterrupt\u001b[0m                         Traceback (most recent call last)",
      "Cell \u001b[0;32mIn[13], line 1\u001b[0m\n\u001b[0;32m----> 1\u001b[0m u, P_values, objective_values \u001b[38;5;241m=\u001b[39m \u001b[43mexp\u001b[49m\u001b[38;5;241;43m.\u001b[39;49m\u001b[43msolve_exact\u001b[49m\u001b[43m(\u001b[49m\u001b[43mtol\u001b[49m\u001b[38;5;241;43m=\u001b[39;49m\u001b[38;5;241;43m1e-12\u001b[39;49m\u001b[43m)\u001b[49m\n",
      "File \u001b[0;32m~/Dokumente/lazified-generalized-conditional-gradient/lgcg/lgcg.py:463\u001b[0m, in \u001b[0;36mLGCG.solve_exact\u001b[0;34m(self, tol)\u001b[0m\n\u001b[1;32m    461\u001b[0m K_support \u001b[38;5;241m=\u001b[39m np\u001b[38;5;241m.\u001b[39mtranspose(np\u001b[38;5;241m.\u001b[39marray([\u001b[38;5;28mself\u001b[39m\u001b[38;5;241m.\u001b[39mk(x) \u001b[38;5;28;01mfor\u001b[39;00m x \u001b[38;5;129;01min\u001b[39;00m u_plus\u001b[38;5;241m.\u001b[39msupport]))\n\u001b[1;32m    462\u001b[0m ssn \u001b[38;5;241m=\u001b[39m SSN(K\u001b[38;5;241m=\u001b[39mK_support, alpha\u001b[38;5;241m=\u001b[39m\u001b[38;5;28mself\u001b[39m\u001b[38;5;241m.\u001b[39malpha, target\u001b[38;5;241m=\u001b[39m\u001b[38;5;28mself\u001b[39m\u001b[38;5;241m.\u001b[39mtarget, M\u001b[38;5;241m=\u001b[39m\u001b[38;5;28mself\u001b[39m\u001b[38;5;241m.\u001b[39mM)\n\u001b[0;32m--> 463\u001b[0m u_raw \u001b[38;5;241m=\u001b[39m \u001b[43mssn\u001b[49m\u001b[38;5;241;43m.\u001b[39;49m\u001b[43msolve\u001b[49m\u001b[43m(\u001b[49m\u001b[43mtol\u001b[49m\u001b[38;5;241;43m=\u001b[39;49m\u001b[38;5;28;43mself\u001b[39;49m\u001b[38;5;241;43m.\u001b[39;49m\u001b[43mmachine_precision\u001b[49m\u001b[43m,\u001b[49m\u001b[43m \u001b[49m\u001b[43mu_0\u001b[49m\u001b[38;5;241;43m=\u001b[39;49m\u001b[43mu_plus\u001b[49m\u001b[38;5;241;43m.\u001b[39;49m\u001b[43mcoefficients\u001b[49m\u001b[43m)\u001b[49m\n\u001b[1;32m    464\u001b[0m u_raw[np\u001b[38;5;241m.\u001b[39mabs(u_raw) \u001b[38;5;241m<\u001b[39m \u001b[38;5;28mself\u001b[39m\u001b[38;5;241m.\u001b[39mmachine_precision] \u001b[38;5;241m=\u001b[39m \u001b[38;5;241m0\u001b[39m\n\u001b[1;32m    465\u001b[0m u \u001b[38;5;241m=\u001b[39m Measure(\n\u001b[1;32m    466\u001b[0m     support\u001b[38;5;241m=\u001b[39mu_plus\u001b[38;5;241m.\u001b[39msupport[u_raw \u001b[38;5;241m!=\u001b[39m \u001b[38;5;241m0\u001b[39m]\u001b[38;5;241m.\u001b[39mcopy(),\n\u001b[1;32m    467\u001b[0m     coefficients\u001b[38;5;241m=\u001b[39mu_raw[u_raw \u001b[38;5;241m!=\u001b[39m \u001b[38;5;241m0\u001b[39m]\u001b[38;5;241m.\u001b[39mcopy(),\n\u001b[1;32m    468\u001b[0m )\n",
      "File \u001b[0;32m~/Dokumente/lazified-generalized-conditional-gradient/lgcg/lib/ssn.py:95\u001b[0m, in \u001b[0;36mSSN.solve\u001b[0;34m(self, tol, u_0)\u001b[0m\n\u001b[1;32m     93\u001b[0m F_value \u001b[38;5;241m=\u001b[39m \u001b[38;5;28mself\u001b[39m\u001b[38;5;241m.\u001b[39mF(u)\n\u001b[1;32m     94\u001b[0m s_I \u001b[38;5;241m=\u001b[39m \u001b[38;5;241m-\u001b[39m\u001b[38;5;28mself\u001b[39m\u001b[38;5;241m.\u001b[39mtau \u001b[38;5;241m*\u001b[39m F_value[cal_I]\n\u001b[0;32m---> 95\u001b[0m s_A \u001b[38;5;241m=\u001b[39m \u001b[43mnp\u001b[49m\u001b[38;5;241;43m.\u001b[39;49m\u001b[43mlinalg\u001b[49m\u001b[38;5;241;43m.\u001b[39;49m\u001b[43mlstsq\u001b[49m\u001b[43m(\u001b[49m\n\u001b[1;32m     96\u001b[0m \u001b[43m    \u001b[49m\u001b[38;5;28;43mself\u001b[39;49m\u001b[38;5;241;43m.\u001b[39;49m\u001b[43msecond_derivative\u001b[49m\u001b[43m[\u001b[49m\u001b[43mnp\u001b[49m\u001b[38;5;241;43m.\u001b[39;49m\u001b[43mix_\u001b[49m\u001b[43m(\u001b[49m\u001b[43mcal_A\u001b[49m\u001b[43m,\u001b[49m\u001b[43m \u001b[49m\u001b[43mcal_A\u001b[49m\u001b[43m)\u001b[49m\u001b[43m]\u001b[49m\n\u001b[1;32m     97\u001b[0m \u001b[43m    \u001b[49m\u001b[38;5;241;43m+\u001b[39;49m\u001b[43m \u001b[49m\u001b[43mnp\u001b[49m\u001b[38;5;241;43m.\u001b[39;49m\u001b[43mlinalg\u001b[49m\u001b[38;5;241;43m.\u001b[39;49m\u001b[43mnorm\u001b[49m\u001b[43m(\u001b[49m\u001b[43mF_value\u001b[49m\u001b[43m)\u001b[49m\u001b[43m \u001b[49m\u001b[38;5;241;43m*\u001b[39;49m\u001b[43m \u001b[49m\u001b[43mnp\u001b[49m\u001b[38;5;241;43m.\u001b[39;49m\u001b[43meye\u001b[49m\u001b[43m(\u001b[49m\u001b[38;5;28;43mlen\u001b[39;49m\u001b[43m(\u001b[49m\u001b[43mcal_A\u001b[49m\u001b[43m)\u001b[49m\u001b[43m)\u001b[49m\u001b[43m,\u001b[49m\n\u001b[1;32m     98\u001b[0m \u001b[43m    \u001b[49m\u001b[38;5;241;43m-\u001b[39;49m\u001b[43mF_value\u001b[49m\u001b[43m[\u001b[49m\u001b[43mcal_A\u001b[49m\u001b[43m]\u001b[49m\n\u001b[1;32m     99\u001b[0m \u001b[43m    \u001b[49m\u001b[38;5;241;43m-\u001b[39;49m\u001b[43m \u001b[49m\u001b[43mnp\u001b[49m\u001b[38;5;241;43m.\u001b[39;49m\u001b[43mmatmul\u001b[49m\u001b[43m(\u001b[49m\u001b[38;5;28;43mself\u001b[39;49m\u001b[38;5;241;43m.\u001b[39;49m\u001b[43msecond_derivative\u001b[49m\u001b[43m[\u001b[49m\u001b[43mnp\u001b[49m\u001b[38;5;241;43m.\u001b[39;49m\u001b[43mix_\u001b[49m\u001b[43m(\u001b[49m\u001b[43mcal_A\u001b[49m\u001b[43m,\u001b[49m\u001b[43m \u001b[49m\u001b[43mcal_I\u001b[49m\u001b[43m)\u001b[49m\u001b[43m]\u001b[49m\u001b[43m,\u001b[49m\u001b[43m \u001b[49m\u001b[43ms_I\u001b[49m\u001b[43m)\u001b[49m\u001b[43m,\u001b[49m\n\u001b[1;32m    100\u001b[0m \u001b[43m    \u001b[49m\u001b[43mrcond\u001b[49m\u001b[38;5;241;43m=\u001b[39;49m\u001b[38;5;28;43;01mNone\u001b[39;49;00m\u001b[43m,\u001b[49m\n\u001b[1;32m    101\u001b[0m \u001b[43m\u001b[49m\u001b[43m)\u001b[49m[\u001b[38;5;241m0\u001b[39m]\n\u001b[1;32m    102\u001b[0m s \u001b[38;5;241m=\u001b[39m np\u001b[38;5;241m.\u001b[39mzeros(\u001b[38;5;28mlen\u001b[39m(u))\n\u001b[1;32m    103\u001b[0m s[cal_A] \u001b[38;5;241m=\u001b[39m s_A\n",
      "File \u001b[0;32m<__array_function__ internals>:200\u001b[0m, in \u001b[0;36mlstsq\u001b[0;34m(*args, **kwargs)\u001b[0m\n",
      "File \u001b[0;32m~/miniconda3/envs/sissopp_env/lib/python3.9/site-packages/numpy/linalg/linalg.py:2285\u001b[0m, in \u001b[0;36mlstsq\u001b[0;34m(a, b, rcond)\u001b[0m\n\u001b[1;32m   2282\u001b[0m \u001b[38;5;28;01mif\u001b[39;00m n_rhs \u001b[38;5;241m==\u001b[39m \u001b[38;5;241m0\u001b[39m:\n\u001b[1;32m   2283\u001b[0m     \u001b[38;5;66;03m# lapack can't handle n_rhs = 0 - so allocate the array one larger in that axis\u001b[39;00m\n\u001b[1;32m   2284\u001b[0m     b \u001b[38;5;241m=\u001b[39m zeros(b\u001b[38;5;241m.\u001b[39mshape[:\u001b[38;5;241m-\u001b[39m\u001b[38;5;241m2\u001b[39m] \u001b[38;5;241m+\u001b[39m (m, n_rhs \u001b[38;5;241m+\u001b[39m \u001b[38;5;241m1\u001b[39m), dtype\u001b[38;5;241m=\u001b[39mb\u001b[38;5;241m.\u001b[39mdtype)\n\u001b[0;32m-> 2285\u001b[0m x, resids, rank, s \u001b[38;5;241m=\u001b[39m \u001b[43mgufunc\u001b[49m\u001b[43m(\u001b[49m\u001b[43ma\u001b[49m\u001b[43m,\u001b[49m\u001b[43m \u001b[49m\u001b[43mb\u001b[49m\u001b[43m,\u001b[49m\u001b[43m \u001b[49m\u001b[43mrcond\u001b[49m\u001b[43m,\u001b[49m\u001b[43m \u001b[49m\u001b[43msignature\u001b[49m\u001b[38;5;241;43m=\u001b[39;49m\u001b[43msignature\u001b[49m\u001b[43m,\u001b[49m\u001b[43m \u001b[49m\u001b[43mextobj\u001b[49m\u001b[38;5;241;43m=\u001b[39;49m\u001b[43mextobj\u001b[49m\u001b[43m)\u001b[49m\n\u001b[1;32m   2286\u001b[0m \u001b[38;5;28;01mif\u001b[39;00m m \u001b[38;5;241m==\u001b[39m \u001b[38;5;241m0\u001b[39m:\n\u001b[1;32m   2287\u001b[0m     x[\u001b[38;5;241m.\u001b[39m\u001b[38;5;241m.\u001b[39m\u001b[38;5;241m.\u001b[39m] \u001b[38;5;241m=\u001b[39m \u001b[38;5;241m0\u001b[39m\n",
      "\u001b[0;31mKeyboardInterrupt\u001b[0m: "
     ]
    }
   ],
   "source": [
    "u, P_values, objective_values = exp.solve_exact(tol=1e-12)"
   ]
  },
  {
   "cell_type": "code",
   "execution_count": 23,
   "metadata": {},
   "outputs": [
    {
     "name": "stderr",
     "output_type": "stream",
     "text": [
      "DEBUG:matplotlib.colorbar:locator: <matplotlib.ticker.FixedLocator object at 0x7fb527231a20>\n"
     ]
    },
    {
     "data": {
      "image/png": "[encoded data removed]",
      "text/plain": [
       "<Figure size 640x480 with 2 Axes>"
      ]
     },
     "metadata": {},
     "output_type": "display_data"
    }
   ],
   "source": [
    "u_tilde = Measure(support=[[0.28197452,0.38970136]], coefficients=[0.80611134])\n",
    "P = lambda x: np.abs(p(u_tilde)(x))\n",
    "a = np.arange(0,1,0.01)\n",
    "B, D = np.meshgrid(a,a)\n",
    "vals = np.array([P(np.array([x_1,x_2])) for x_1, x_2 in zip(B.flatten(), D.flatten())]).reshape((100,100))\n",
    "\n",
    "plt.contourf(B, D, vals, levels=50)\n",
    "plt.colorbar()\n",
    "plt.plot([0.1], [0.3], \"x\")\n",
    "plt.plot([0.28197452], [0.38970136], \"o\");"
   ]
  },
  {
   "cell_type": "code",
   "execution_count": 13,
   "metadata": {},
   "outputs": [
    {
     "name": "stderr",
     "output_type": "stream",
     "text": [
      "DEBUG:root:SSN in 1 dimensions converged in 4 iterations to tolerance 3.084E-03\n",
      "INFO:root:1: gcg, support: [[0.45903559 0.47938753]], grad_norm:0.05785019048194348\n",
      "DEBUG:root:SSN in 2 dimensions converged in 3 iterations to tolerance 1.542E-03\n",
      "INFO:root:2: gcg, support: [[0.17474591 0.33303228]\n",
      " [0.45731829 0.47851574]], grad_norm:0.019929197498477207\n",
      "DEBUG:root:SSN in 3 dimensions converged in 38 iterations to tolerance 7.711E-04\n",
      "INFO:root:3: gcg, support: [[0.17642271 0.33391462]\n",
      " [0.30993292 0.40628126]], grad_norm:0.009366615648709026\n",
      "DEBUG:root:SSN in 2 dimensions converged in 0 iterations to tolerance 3.084E-03\n",
      "INFO:root:4: newton, support: [[0.17820764 0.33487352]\n",
      " [0.30928658 0.40589758]], grad_norm:0.009152440818376958\n",
      "DEBUG:root:SSN in 2 dimensions converged in 0 iterations to tolerance 3.084E-03\n",
      "INFO:root:5: newton, support: [[0.17997765 0.33582429]\n",
      " [0.30864797 0.4055185 ]], grad_norm:0.008940756822405475\n",
      "DEBUG:root:SSN in 2 dimensions converged in 0 iterations to tolerance 3.084E-03\n",
      "INFO:root:6: newton, support: [[0.18173275 0.33676691]\n",
      " [0.30801706 0.40514401]], grad_norm:0.008731563495420341\n",
      "DEBUG:root:SSN in 2 dimensions converged in 0 iterations to tolerance 3.084E-03\n",
      "INFO:root:7: newton, support: [[0.18347293 0.33770139]\n",
      " [0.30739387 0.40477411]], grad_norm:0.008524860667921064\n",
      "DEBUG:root:SSN in 2 dimensions converged in 0 iterations to tolerance 3.084E-03\n",
      "INFO:root:8: newton, support: [[0.18519819 0.33862771]\n",
      " [0.30677839 0.4044088 ]], grad_norm:0.00832064816614709\n",
      "DEBUG:root:SSN in 2 dimensions converged in 0 iterations to tolerance 3.084E-03\n",
      "INFO:root:9: newton, support: [[0.18690853 0.33954587]\n",
      " [0.3061706  0.40404807]], grad_norm:0.008118925811936701\n",
      "DEBUG:root:SSN in 2 dimensions converged in 0 iterations to tolerance 3.084E-03\n",
      "INFO:root:10: newton, support: [[0.18860395 0.34045588]\n",
      " [0.30557052 0.40369193]], grad_norm:0.007919693422578604\n",
      "DEBUG:root:SSN in 2 dimensions converged in 0 iterations to tolerance 3.084E-03\n",
      "INFO:root:11: newton, support: [[0.19028446 0.34135773]\n",
      " [0.30497813 0.40334037]], grad_norm:0.007722950810655175\n",
      "DEBUG:root:SSN in 2 dimensions converged in 0 iterations to tolerance 3.084E-03\n",
      "INFO:root:12: newton, support: [[0.19195007 0.34225141]\n",
      " [0.30439343 0.40299338]], grad_norm:0.007528697783877192\n",
      "DEBUG:root:SSN in 2 dimensions converged in 0 iterations to tolerance 3.084E-03\n",
      "INFO:root:13: newton, support: [[0.19360078 0.34313694]\n",
      " [0.30381643 0.40265097]], grad_norm:0.007336934144909352\n",
      "DEBUG:root:SSN in 2 dimensions converged in 0 iterations to tolerance 3.084E-03\n",
      "INFO:root:14: newton, support: [[0.19523661 0.34401432]\n",
      " [0.3032471  0.40231314]], grad_norm:0.007147659691186044\n",
      "DEBUG:root:SSN in 2 dimensions converged in 0 iterations to tolerance 3.084E-03\n",
      "INFO:root:15: newton, support: [[0.19685758 0.34488354]\n",
      " [0.30268545 0.40197987]], grad_norm:0.0069608742147167025\n",
      "DEBUG:root:SSN in 2 dimensions converged in 0 iterations to tolerance 3.084E-03\n",
      "INFO:root:16: newton, support: [[0.1984637  0.34574463]\n",
      " [0.30213148 0.40165117]], grad_norm:0.006776577501879826\n",
      "DEBUG:root:SSN in 2 dimensions converged in 0 iterations to tolerance 3.084E-03\n",
      "INFO:root:17: newton, support: [[0.200055   0.34659758]\n",
      " [0.30158519 0.40132703]], grad_norm:0.0065947693332053465\n",
      "DEBUG:root:SSN in 2 dimensions converged in 0 iterations to tolerance 3.084E-03\n",
      "INFO:root:18: newton, support: [[0.20163149 0.3474424 ]\n",
      " [0.30104655 0.40100746]], grad_norm:0.006415449483144237\n",
      "DEBUG:root:SSN in 2 dimensions converged in 0 iterations to tolerance 3.084E-03\n",
      "INFO:root:19: newton, support: [[0.20319322 0.34827911]\n",
      " [0.30051559 0.40069244]], grad_norm:0.006238617719824242\n",
      "DEBUG:root:SSN in 2 dimensions converged in 0 iterations to tolerance 3.084E-03\n",
      "INFO:root:20: newton, support: [[0.20474019 0.34910772]\n",
      " [0.29999228 0.40038198]], grad_norm:0.006064273804791489\n",
      "DEBUG:root:SSN in 2 dimensions converged in 0 iterations to tolerance 3.084E-03\n",
      "INFO:root:21: newton, support: [[0.20627246 0.34992823]\n",
      " [0.29947662 0.40007607]], grad_norm:0.005892417492736445\n",
      "DEBUG:root:SSN in 2 dimensions converged in 0 iterations to tolerance 3.084E-03\n",
      "INFO:root:22: newton, support: [[0.20779004 0.35074067]\n",
      " [0.29896862 0.39977471]], grad_norm:0.005723048531202864\n",
      "DEBUG:root:SSN in 2 dimensions converged in 0 iterations to tolerance 3.084E-03\n",
      "INFO:root:23: newton, support: [[0.20929299 0.35154506]\n",
      " [0.29846826 0.39947789]], grad_norm:0.0055561666602794635\n",
      "DEBUG:root:SSN in 2 dimensions converged in 0 iterations to tolerance 3.084E-03\n",
      "INFO:root:24: newton, support: [[0.21078133 0.3523414 ]\n",
      " [0.29797554 0.39918562]], grad_norm:0.056554439146160894\n",
      "DEBUG:root:SSN in 3 dimensions converged in 3 iterations to tolerance 3.855E-04\n",
      "INFO:root:25: gcg, support: [[0.2113691  0.35264915]\n",
      " [0.2692139  0.38165414]\n",
      " [0.29797554 0.39918562]], grad_norm:0.055982838450888375\n",
      "DEBUG:root:SSN in 4 dimensions converged in 0 iterations to tolerance 1.928E-04\n",
      "INFO:root:26: gcg, support: [[0.21195556 0.35295623]\n",
      " [0.26865774 0.38136122]\n",
      " [0.2692139  0.38165414]\n",
      " [0.29797554 0.39918562]], grad_norm:0.05553628956460054\n",
      "DEBUG:root:SSN in 5 dimensions converged in 125 iterations to tolerance 9.638E-05\n",
      "INFO:root:27: gcg, support: [[0.26864424 0.38135403]\n",
      " [0.26865774 0.38136122]\n",
      " [0.2692139  0.38165414]\n",
      " [0.29797554 0.39918562]], grad_norm:0.009802966192197813\n",
      "DEBUG:root:SSN in 5 dimensions converged in 0 iterations to tolerance 4.819E-05\n",
      "INFO:root:28: gcg, support: [[0.26865774 0.38136122]\n",
      " [0.26893451 0.38153571]\n",
      " [0.2692139  0.38165414]\n",
      " [0.28016294 0.38879719]\n",
      " [0.29797554 0.39918562]], grad_norm:0.009792679459035065\n",
      "DEBUG:root:SSN in 5 dimensions converged in 9 iterations to tolerance 2.410E-05\n",
      "INFO:root:29: gcg, support: [[0.26893451 0.38153571]\n",
      " [0.26894787 0.38154284]\n",
      " [0.2692139  0.38165414]\n",
      " [0.28016294 0.38879719]\n",
      " [0.29797554 0.39918562]], grad_norm:0.008625472201589705\n",
      "DEBUG:root:SSN in 5 dimensions converged in 0 iterations to tolerance 1.205E-05\n",
      "INFO:root:30: gcg, support: [[0.26894787 0.38154284]], grad_norm:0.008616386879622137\n",
      "DEBUG:root:SSN in 1 dimensions converged in 1 iterations to tolerance 3.084E-03\n",
      "INFO:root:31: newton, support: [[0.26925122 0.38173276]], grad_norm:0.004612745852979919\n",
      "DEBUG:root:SSN in 1 dimensions converged in 0 iterations to tolerance 3.084E-03\n",
      "INFO:root:32: newton, support: [[0.2696617  0.38198978]], grad_norm:0.004463431503577841\n",
      "DEBUG:root:SSN in 1 dimensions converged in 0 iterations to tolerance 3.084E-03\n",
      "INFO:root:33: newton, support: [[0.27006547 0.3822426 ]], grad_norm:0.004316592519746893\n",
      "DEBUG:root:SSN in 1 dimensions converged in 0 iterations to tolerance 3.084E-03\n",
      "INFO:root:34: newton, support: [[0.27046252 0.38249122]], grad_norm:0.004172228616111742\n",
      "DEBUG:root:SSN in 1 dimensions converged in 0 iterations to tolerance 3.084E-03\n",
      "INFO:root:35: newton, support: [[0.27085285 0.38273563]], grad_norm:0.004030339494977466\n",
      "DEBUG:root:SSN in 1 dimensions converged in 0 iterations to tolerance 3.084E-03\n",
      "INFO:root:36: newton, support: [[0.27123645 0.38297584]], grad_norm:0.0038909248457072673\n",
      "DEBUG:root:SSN in 1 dimensions converged in 0 iterations to tolerance 3.084E-03\n",
      "INFO:root:37: newton, support: [[0.27161333 0.38321183]], grad_norm:0.0037539843440563196\n",
      "DEBUG:root:SSN in 1 dimensions converged in 0 iterations to tolerance 3.084E-03\n",
      "INFO:root:38: newton, support: [[0.27198347 0.38344362]], grad_norm:0.0036195176514573703\n",
      "DEBUG:root:SSN in 1 dimensions converged in 0 iterations to tolerance 3.084E-03\n",
      "INFO:root:39: newton, support: [[0.27234688 0.38367119]], grad_norm:0.003487524414254386\n",
      "DEBUG:root:SSN in 1 dimensions converged in 0 iterations to tolerance 3.084E-03\n",
      "INFO:root:40: newton, support: [[0.27270355 0.38389454]], grad_norm:0.0033580042628785166\n",
      "DEBUG:root:SSN in 1 dimensions converged in 0 iterations to tolerance 3.084E-03\n",
      "INFO:root:41: newton, support: [[0.27305348 0.38411368]], grad_norm:0.0032309568109617427\n",
      "DEBUG:root:SSN in 1 dimensions converged in 0 iterations to tolerance 3.084E-03\n",
      "INFO:root:42: newton, support: [[0.27339666 0.38432859]], grad_norm:0.0031063816543817494\n",
      "DEBUG:root:SSN in 1 dimensions converged in 0 iterations to tolerance 3.084E-03\n",
      "INFO:root:43: newton, support: [[0.2737331  0.38453929]], grad_norm:0.0029842783702313785\n",
      "DEBUG:root:SSN in 1 dimensions converged in 0 iterations to tolerance 3.084E-03\n",
      "INFO:root:44: newton, support: [[0.27406279 0.38474576]], grad_norm:0.0028646465157053966\n",
      "DEBUG:root:SSN in 1 dimensions converged in 0 iterations to tolerance 3.084E-03\n",
      "INFO:root:45: newton, support: [[0.27438572 0.384948  ]], grad_norm:0.0027474856268956535\n",
      "DEBUG:root:SSN in 1 dimensions converged in 0 iterations to tolerance 3.084E-03\n",
      "INFO:root:46: newton, support: [[0.2747019  0.38514602]], grad_norm:0.0026327952174854184\n",
      "DEBUG:root:SSN in 1 dimensions converged in 0 iterations to tolerance 3.084E-03\n",
      "INFO:root:47: newton, support: [[0.27501133 0.3853398 ]], grad_norm:0.002520574777332312\n",
      "DEBUG:root:SSN in 1 dimensions converged in 0 iterations to tolerance 3.084E-03\n",
      "INFO:root:48: newton, support: [[0.27531399 0.38552936]], grad_norm:0.0024108237709272906\n",
      "DEBUG:root:SSN in 1 dimensions converged in 0 iterations to tolerance 3.084E-03\n",
      "INFO:root:49: newton, support: [[0.2756099  0.38571468]], grad_norm:0.0023035416357163616\n",
      "DEBUG:root:SSN in 1 dimensions converged in 0 iterations to tolerance 3.084E-03\n",
      "INFO:root:50: newton, support: [[0.27589904 0.38589577]], grad_norm:0.0021987277802690912\n",
      "DEBUG:root:SSN in 1 dimensions converged in 0 iterations to tolerance 3.084E-03\n",
      "INFO:root:51: newton, support: [[0.27618142 0.38607263]], grad_norm:0.0020963815822768006\n",
      "DEBUG:root:SSN in 1 dimensions converged in 0 iterations to tolerance 3.084E-03\n",
      "INFO:root:52: newton, support: [[0.27645703 0.38624525]], grad_norm:0.0019965023863591142\n",
      "DEBUG:root:SSN in 1 dimensions converged in 0 iterations to tolerance 3.084E-03\n",
      "INFO:root:53: newton, support: [[0.27672588 0.38641364]], grad_norm:0.0018990895016567405\n",
      "DEBUG:root:SSN in 1 dimensions converged in 0 iterations to tolerance 3.084E-03\n",
      "INFO:root:54: newton, support: [[0.27698796 0.38657779]], grad_norm:0.0018041421991832158\n",
      "DEBUG:root:SSN in 1 dimensions converged in 0 iterations to tolerance 3.084E-03\n",
      "INFO:root:55: newton, support: [[0.27724327 0.3867377 ]], grad_norm:0.0017116597089046443\n",
      "DEBUG:root:SSN in 1 dimensions converged in 0 iterations to tolerance 3.084E-03\n",
      "INFO:root:56: newton, support: [[0.27749181 0.38689337]], grad_norm:0.001621641216512569\n",
      "DEBUG:root:SSN in 1 dimensions converged in 0 iterations to tolerance 3.084E-03\n",
      "INFO:root:57: newton, support: [[0.27773358 0.38704481]], grad_norm:0.0015340858598480566\n",
      "DEBUG:root:SSN in 1 dimensions converged in 0 iterations to tolerance 3.084E-03\n",
      "INFO:root:58: newton, support: [[0.27796858 0.387192  ]], grad_norm:0.0014489927249288002\n",
      "DEBUG:root:SSN in 1 dimensions converged in 0 iterations to tolerance 3.084E-03\n",
      "INFO:root:59: newton, support: [[0.27819682 0.38733496]], grad_norm:0.0013663608415234786\n",
      "DEBUG:root:SSN in 1 dimensions converged in 0 iterations to tolerance 3.084E-03\n",
      "INFO:root:60: newton, support: [[0.27841828 0.38747368]], grad_norm:0.0012861891782066273\n",
      "DEBUG:root:SSN in 1 dimensions converged in 0 iterations to tolerance 3.084E-03\n",
      "INFO:root:61: newton, support: [[0.27863298 0.38760816]], grad_norm:0.0012084766368160803\n",
      "DEBUG:root:SSN in 1 dimensions converged in 0 iterations to tolerance 3.084E-03\n",
      "INFO:root:62: newton, support: [[0.2788409 0.3877384]], grad_norm:0.0011332220462205395\n",
      "DEBUG:root:SSN in 1 dimensions converged in 0 iterations to tolerance 3.084E-03\n",
      "INFO:root:63: newton, support: [[0.27904206 0.3878644 ]], grad_norm:0.001060424155286972\n",
      "DEBUG:root:SSN in 1 dimensions converged in 0 iterations to tolerance 3.084E-03\n",
      "INFO:root:64: newton, support: [[0.27923646 0.38798617]], grad_norm:0.000990081624915443\n",
      "DEBUG:root:SSN in 1 dimensions converged in 0 iterations to tolerance 3.084E-03\n",
      "INFO:root:65: newton, support: [[0.27942409 0.3881037 ]], grad_norm:0.0009221930189826485\n",
      "DEBUG:root:SSN in 1 dimensions converged in 0 iterations to tolerance 3.084E-03\n",
      "INFO:root:66: newton, support: [[0.27960496 0.388217  ]], grad_norm:0.0008567567940016369\n",
      "DEBUG:root:SSN in 1 dimensions converged in 0 iterations to tolerance 3.084E-03\n",
      "INFO:root:67: newton, support: [[0.27977907 0.38832606]], grad_norm:0.0007937712872627135\n",
      "DEBUG:root:SSN in 1 dimensions converged in 0 iterations to tolerance 3.084E-03\n",
      "INFO:root:68: newton, support: [[0.27994643 0.3884309 ]], grad_norm:0.0007332347031679566\n",
      "DEBUG:root:SSN in 1 dimensions converged in 0 iterations to tolerance 3.084E-03\n",
      "INFO:root:69: newton, support: [[0.28010703 0.3885315 ]], grad_norm:0.0006751450974031738\n",
      "DEBUG:root:SSN in 1 dimensions converged in 0 iterations to tolerance 3.084E-03\n",
      "INFO:root:70: newton, support: [[0.28026089 0.38862788]], grad_norm:0.0006195003585050012\n",
      "DEBUG:root:SSN in 1 dimensions converged in 0 iterations to tolerance 3.084E-03\n",
      "INFO:root:71: newton, support: [[0.28040801 0.38872003]], grad_norm:0.0005662981862670049\n",
      "DEBUG:root:SSN in 1 dimensions converged in 0 iterations to tolerance 3.084E-03\n",
      "INFO:root:72: newton, support: [[0.28054838 0.38880797]], grad_norm:0.0005155360662816303\n",
      "DEBUG:root:SSN in 1 dimensions converged in 0 iterations to tolerance 3.084E-03\n",
      "INFO:root:73: newton, support: [[0.28068203 0.38889169]], grad_norm:0.0004672112397182769\n",
      "DEBUG:root:SSN in 1 dimensions converged in 0 iterations to tolerance 3.084E-03\n",
      "INFO:root:74: newton, support: [[0.28080895 0.3889712 ]], grad_norm:0.00042132066717712283\n",
      "DEBUG:root:SSN in 1 dimensions converged in 0 iterations to tolerance 3.084E-03\n",
      "INFO:root:75: newton, support: [[0.28092915 0.3890465 ]], grad_norm:0.0003778609851023617\n",
      "DEBUG:root:SSN in 1 dimensions converged in 0 iterations to tolerance 3.084E-03\n",
      "INFO:root:76: newton, support: [[0.28104265 0.38911759]], grad_norm:0.0003368284527521311\n",
      "DEBUG:root:SSN in 1 dimensions converged in 0 iterations to tolerance 3.084E-03\n",
      "INFO:root:77: newton, support: [[0.28114945 0.3891845 ]], grad_norm:0.00029821888704285155\n",
      "DEBUG:root:SSN in 1 dimensions converged in 0 iterations to tolerance 3.084E-03\n",
      "INFO:root:78: newton, support: [[0.28124957 0.38924722]], grad_norm:0.0002620275816237986\n",
      "DEBUG:root:SSN in 1 dimensions converged in 0 iterations to tolerance 3.084E-03\n",
      "INFO:root:79: newton, support: [[0.28134301 0.38930575]], grad_norm:0.00022824920515216284\n",
      "DEBUG:root:SSN in 1 dimensions converged in 0 iterations to tolerance 3.084E-03\n",
      "INFO:root:80: newton, support: [[0.2814298  0.38936012]], grad_norm:0.00019687767169868604\n",
      "DEBUG:root:SSN in 1 dimensions converged in 0 iterations to tolerance 3.084E-03\n",
      "INFO:root:81: newton, support: [[0.28150995 0.38941033]], grad_norm:0.0001679059731543972\n",
      "DEBUG:root:SSN in 1 dimensions converged in 0 iterations to tolerance 3.084E-03\n",
      "INFO:root:82: newton, support: [[0.28158349 0.3894564 ]], grad_norm:0.0001413259587949837\n",
      "DEBUG:root:SSN in 1 dimensions converged in 0 iterations to tolerance 3.084E-03\n",
      "INFO:root:83: newton, support: [[0.28165044 0.38949834]], grad_norm:0.00011712803970865937\n",
      "DEBUG:root:SSN in 1 dimensions converged in 0 iterations to tolerance 3.084E-03\n",
      "INFO:root:84: newton, support: [[0.28171083 0.38953618]], grad_norm:9.530078364286269e-05\n",
      "DEBUG:root:SSN in 1 dimensions converged in 0 iterations to tolerance 3.084E-03\n",
      "INFO:root:85: newton, support: [[0.2817647  0.38956992]], grad_norm:7.583034531037857e-05\n",
      "DEBUG:root:SSN in 1 dimensions converged in 0 iterations to tolerance 3.084E-03\n",
      "INFO:root:86: newton, support: [[0.2818121  0.38959962]], grad_norm:5.869964115610959e-05\n",
      "DEBUG:root:SSN in 1 dimensions converged in 0 iterations to tolerance 3.084E-03\n",
      "INFO:root:87: newton, support: [[0.28185309 0.38962529]], grad_norm:4.38871112973024e-05\n",
      "DEBUG:root:SSN in 1 dimensions converged in 0 iterations to tolerance 3.084E-03\n",
      "INFO:root:88: newton, support: [[0.28188773 0.389647  ]], grad_norm:3.136478279967596e-05\n",
      "DEBUG:root:SSN in 1 dimensions converged in 0 iterations to tolerance 3.084E-03\n",
      "INFO:root:89: newton, support: [[0.28191615 0.3896648 ]], grad_norm:2.1095083430961687e-05\n",
      "DEBUG:root:SSN in 1 dimensions converged in 0 iterations to tolerance 3.084E-03\n",
      "INFO:root:90: newton, support: [[0.28193848 0.38967879]], grad_norm:1.3025269116806435e-05\n",
      "DEBUG:root:SSN in 1 dimensions converged in 0 iterations to tolerance 3.084E-03\n",
      "INFO:root:91: newton, support: [[0.28195494 0.3896891 ]], grad_norm:7.0769310422130615e-06\n",
      "DEBUG:root:SSN in 1 dimensions converged in 0 iterations to tolerance 3.084E-03\n",
      "INFO:root:92: newton, support: [[0.28196587 0.38969595]], grad_norm:3.1244892881179095e-06\n",
      "DEBUG:root:SSN in 1 dimensions converged in 0 iterations to tolerance 3.084E-03\n",
      "INFO:root:93: newton, support: [[0.2819719  0.38969972]], grad_norm:9.477058429141515e-07\n",
      "DEBUG:root:SSN in 1 dimensions converged in 0 iterations to tolerance 3.084E-03\n",
      "INFO:root:94: newton, support: [[0.28197415 0.38970113]], grad_norm:1.3281293297709266e-07\n",
      "DEBUG:root:SSN in 1 dimensions converged in 0 iterations to tolerance 3.084E-03\n",
      "INFO:root:95: newton, support: [[0.28197451 0.38970136]], grad_norm:3.352079454076796e-09\n",
      "DEBUG:root:SSN in 1 dimensions converged in 0 iterations to tolerance 3.084E-03\n",
      "INFO:root:96: newton, support: [[0.28197452 0.38970136]], grad_norm:2.2443097582090127e-12\n",
      "DEBUG:root:SSN in 1 dimensions converged in 0 iterations to tolerance 3.084E-03\n",
      "INFO:root:97: newton, support: [[0.28197452 0.38970136]], grad_norm:4.23804088088108e-17\n"
     ]
    }
   ],
   "source": [
    "u, grad_norms, objective_values = exp.solve_newton(tol=1e-12)"
   ]
  },
  {
   "cell_type": "code",
   "execution_count": 18,
   "metadata": {},
   "outputs": [
    {
     "name": "stdout",
     "output_type": "stream",
     "text": [
      "Measure with support [[0.28197452 0.38970136]] and coefficients [0.80611134]\n"
     ]
    }
   ],
   "source": [
    "print(u)"
   ]
  },
  {
   "cell_type": "code",
   "execution_count": 15,
   "metadata": {},
   "outputs": [],
   "source": [
    "u = Measure([[0.28197452, 0.38970136]],[0.80611134])"
   ]
  },
  {
   "cell_type": "code",
   "execution_count": 19,
   "metadata": {},
   "outputs": [
    {
     "data": {
      "text/plain": [
       "array([ 5.88048400e-18, -5.30867298e-18, -4.16333634e-17])"
      ]
     },
     "execution_count": 19,
     "metadata": {},
     "output_type": "execute_result"
    }
   ],
   "source": [
    "grad_j(u.support, u.coefficients)"
   ]
  },
  {
   "cell_type": "code",
   "execution_count": 20,
   "metadata": {},
   "outputs": [
    {
     "data": {
      "text/plain": [
       "EigResult(eigenvalues=array([1.37249132, 0.26995991, 0.29384108]), eigenvectors=array([[-0.34039142, -0.82201835,  0.45652987],\n",
       "       [-0.17191391, -0.42293277, -0.88970415],\n",
       "       [-0.92443458,  0.38133149, -0.0026463 ]]))"
      ]
     },
     "execution_count": 20,
     "metadata": {},
     "output_type": "execute_result"
    }
   ],
   "source": [
    "hess = hess_j(u.support, u.coefficients)\n",
    "np.linalg.eig(hess)"
   ]
  },
  {
   "cell_type": "code",
   "execution_count": 20,
   "metadata": {},
   "outputs": [
    {
     "data": {
      "text/plain": [
       "EigResult(eigenvalues=array([-0.19983106, -0.18311689]), eigenvectors=array([[-0.92806212,  0.37242543],\n",
       "       [-0.37242543, -0.92806212]]))"
      ]
     },
     "execution_count": 20,
     "metadata": {},
     "output_type": "execute_result"
    }
   ],
   "source": [
    "hess = hess_P(u.support[0], u)\n",
    "np.linalg.eig(hess)"
   ]
  },
  {
   "cell_type": "code",
   "execution_count": 14,
   "metadata": {},
   "outputs": [],
   "source": [
    "optimal_objective = objective_values[-1]\n",
    "residuals = np.array(objective_values)-optimal_objective"
   ]
  },
  {
   "cell_type": "code",
   "execution_count": 24,
   "metadata": {},
   "outputs": [
    {
     "data": {
      "image/png": "[encoded data removed]",
      "text/plain": [
       "<Figure size 640x480 with 1 Axes>"
      ]
     },
     "metadata": {},
     "output_type": "display_data"
    }
   ],
   "source": [
    "plt.semilogy(np.array(range(len(residuals))),residuals, 'k-', linewidth = 2.5);\n",
    "plt.xlabel(\"Iterations\");\n",
    "plt.ylabel(\"Residual\");"
   ]
  },
  {
   "cell_type": "code",
   "execution_count": 13,
   "metadata": {},
   "outputs": [
    {
     "name": "stderr",
     "output_type": "stream",
     "text": [
      "INFO:root:Recompute 1, Psi_k:1.542E-03, Phi_k:4.900E+00, constant:1.292E+04\n",
      "INFO:root:Recompute 2, Psi_k:7.711E-04, Phi_k:4.900E+00, constant:9.133E+03\n",
      "INFO:root:Recompute 3, Psi_k:3.855E-04, Phi_k:4.900E+00, constant:6.458E+03\n",
      "INFO:root:Recompute 4, Psi_k:1.928E-04, Phi_k:4.900E+00, constant:4.566E+03\n",
      "INFO:root:Recompute 5, Psi_k:9.638E-05, Phi_k:4.900E+00, constant:3.229E+03\n",
      "INFO:root:Recompute 6, Psi_k:4.819E-05, Phi_k:4.900E+00, constant:2.283E+03\n",
      "INFO:root:Recompute 7, Psi_k:2.410E-05, Phi_k:4.900E+00, constant:1.614E+03\n",
      "INFO:root:Recompute 8, Psi_k:1.205E-05, Phi_k:4.900E+00, constant:1.142E+03\n",
      "INFO:root:Recompute 9, Psi_k:6.024E-06, Phi_k:4.900E+00, constant:8.072E+02\n",
      "INFO:root:Recompute 10, Psi_k:3.012E-06, Phi_k:4.900E+00, constant:5.708E+02\n",
      "INFO:root:Recompute 11, Psi_k:1.506E-06, Phi_k:4.900E+00, constant:4.036E+02\n",
      "INFO:root:Recompute 12, Psi_k:7.530E-07, Phi_k:4.900E+00, constant:2.854E+02\n",
      "INFO:root:Recompute 13, Psi_k:3.765E-07, Phi_k:4.900E+00, constant:2.018E+02\n",
      "INFO:root:Recompute 14, Psi_k:1.882E-07, Phi_k:4.900E+00, constant:1.427E+02\n",
      "INFO:root:Recompute 15, Psi_k:9.412E-08, Phi_k:4.900E+00, constant:1.009E+02\n",
      "INFO:root:Recompute 16, Psi_k:4.706E-08, Phi_k:4.900E+00, constant:7.135E+01\n",
      "INFO:root:Recompute 17, Psi_k:2.353E-08, Phi_k:4.900E+00, constant:5.045E+01\n",
      "INFO:root:Recompute 18, Psi_k:1.177E-08, Phi_k:4.900E+00, constant:3.567E+01\n",
      "INFO:root:Recompute 19, Psi_k:5.883E-09, Phi_k:4.900E+00, constant:2.523E+01\n",
      "INFO:root:Recompute 20, Psi_k:2.941E-09, Phi_k:4.900E+00, constant:1.784E+01\n",
      "INFO:root:Recompute 21, Psi_k:1.471E-09, Phi_k:4.900E+00, constant:1.261E+01\n",
      "INFO:root:Recompute 22, Psi_k:7.353E-10, Phi_k:4.900E+00, constant:8.919E+00\n",
      "INFO:root:Recompute 23, Psi_k:3.677E-10, Phi_k:4.900E+00, constant:6.306E+00\n",
      "DEBUG:root:SSN in 1 dimensions converged in 5 iterations to tolerance 3.677E-10\n",
      "INFO:root:1: LSI, support: 1, Phi_k: 4.9004145747667645\n",
      "INFO:root:Recompute 24, Psi_k:1.838E-10, Phi_k:6.135E-02, constant:4.459E+00\n",
      "DEBUG:root:SSN in 2 dimensions converged in 6 iterations to tolerance 1.838E-10\n",
      "INFO:root:1: LSI, support: 2, Phi_k: 0.06134637979446377\n",
      "INFO:root:Recompute 25, Psi_k:9.192E-11, Phi_k:1.223E-02, constant:3.153E+00\n",
      "DEBUG:root:SSN in 3 dimensions converged in 36 iterations to tolerance 9.192E-11\n",
      "INFO:root:1: LSI, support: 1, Phi_k: 0.012232225667300697\n",
      "INFO:root:Recompute 26, Psi_k:4.596E-11, Phi_k:2.467E-03, constant:2.230E+00\n",
      "DEBUG:root:SSN in 3 dimensions converged in 5 iterations to tolerance 4.596E-11\n",
      "INFO:root:1: GCG, support: 2, Phi_k: 0.0024669077120557086\n",
      "INFO:root:Recompute 27, Psi_k:2.298E-11, Phi_k:5.963E-04, constant:1.577E+00\n",
      "DEBUG:root:SSN in 4 dimensions converged in 2080 iterations to tolerance 2.298E-11\n",
      "INFO:root:1: GCG, support: 1, Phi_k: 0.0005963421145454062\n",
      "INFO:root:Recompute 28, Psi_k:1.149E-11, Phi_k:1.444E-05, constant:1.115E+00\n",
      "DEBUG:root:SSN in 3 dimensions converged in 5 iterations to tolerance 1.149E-11\n",
      "INFO:root:1: LSI, support: 2, Phi_k: 1.4441241838000705e-05\n",
      "INFO:root:Recompute 29, Psi_k:5.745E-12, Phi_k:3.607E-06, constant:7.883E-01\n",
      "DEBUG:root:SSN in 4 dimensions converged in 215637 iterations to tolerance 5.745E-12\n",
      "INFO:root:1: LSI, support: 1, Phi_k: 3.606681417056064e-06\n",
      "INFO:root:Recompute 30, Psi_k:1.437E-15, Phi_k:3.791E-08, constant:5.574E-01\n",
      "DEBUG:root:SSN in 3 dimensions converged in 4 iterations to tolerance 1.000E-12\n",
      "INFO:root:1: LSI, support: 2, Phi_k: 3.7905937886631835e-08\n"
     ]
    },
    {
     "ename": "KeyboardInterrupt",
     "evalue": "",
     "output_type": "error",
     "traceback": [
      "\u001b[0;31m---------------------------------------------------------------------------\u001b[0m",
      "\u001b[0;31mKeyboardInterrupt\u001b[0m                         Traceback (most recent call last)",
      "Cell \u001b[0;32mIn[13], line 1\u001b[0m\n\u001b[0;32m----> 1\u001b[0m u, Phi_ks, objective_values \u001b[38;5;241m=\u001b[39m \u001b[43mexp\u001b[49m\u001b[38;5;241;43m.\u001b[39;49m\u001b[43msolve\u001b[49m\u001b[43m(\u001b[49m\u001b[43mtol\u001b[49m\u001b[38;5;241;43m=\u001b[39;49m\u001b[38;5;241;43m1e-12\u001b[39;49m\u001b[43m)\u001b[49m\n",
      "File \u001b[0;32m~/Dokumente/lazified-generalized-conditional-gradient/lgcg/lgcg.py:330\u001b[0m, in \u001b[0;36mLGCG.solve\u001b[0;34m(self, tol)\u001b[0m\n\u001b[1;32m    328\u001b[0m K_support \u001b[38;5;241m=\u001b[39m np\u001b[38;5;241m.\u001b[39mtranspose(np\u001b[38;5;241m.\u001b[39marray([\u001b[38;5;28mself\u001b[39m\u001b[38;5;241m.\u001b[39mk(x) \u001b[38;5;28;01mfor\u001b[39;00m x \u001b[38;5;129;01min\u001b[39;00m u_start\u001b[38;5;241m.\u001b[39msupport]))\n\u001b[1;32m    329\u001b[0m ssn \u001b[38;5;241m=\u001b[39m SSN(K\u001b[38;5;241m=\u001b[39mK_support, alpha\u001b[38;5;241m=\u001b[39m\u001b[38;5;28mself\u001b[39m\u001b[38;5;241m.\u001b[39malpha, target\u001b[38;5;241m=\u001b[39m\u001b[38;5;28mself\u001b[39m\u001b[38;5;241m.\u001b[39mtarget, M\u001b[38;5;241m=\u001b[39m\u001b[38;5;28mself\u001b[39m\u001b[38;5;241m.\u001b[39mM)\n\u001b[0;32m--> 330\u001b[0m u_raw \u001b[38;5;241m=\u001b[39m \u001b[43mssn\u001b[49m\u001b[38;5;241;43m.\u001b[39;49m\u001b[43msolve\u001b[49m\u001b[43m(\u001b[49m\n\u001b[1;32m    331\u001b[0m \u001b[43m    \u001b[49m\u001b[43mtol\u001b[49m\u001b[38;5;241;43m=\u001b[39;49m\u001b[38;5;28;43mmax\u001b[39;49m\u001b[43m(\u001b[49m\u001b[43mPsi_k\u001b[49m\u001b[43m,\u001b[49m\u001b[43m \u001b[49m\u001b[38;5;28;43mself\u001b[39;49m\u001b[38;5;241;43m.\u001b[39;49m\u001b[43mmachine_precision\u001b[49m\u001b[43m)\u001b[49m\u001b[43m,\u001b[49m\u001b[43m \u001b[49m\u001b[43mu_0\u001b[49m\u001b[38;5;241;43m=\u001b[39;49m\u001b[43mu_start\u001b[49m\u001b[38;5;241;43m.\u001b[39;49m\u001b[43mcoefficients\u001b[49m\n\u001b[1;32m    332\u001b[0m \u001b[43m\u001b[49m\u001b[43m)\u001b[49m\n\u001b[1;32m    333\u001b[0m u_raw[np\u001b[38;5;241m.\u001b[39mabs(u_raw) \u001b[38;5;241m<\u001b[39m \u001b[38;5;28mself\u001b[39m\u001b[38;5;241m.\u001b[39mmachine_precision] \u001b[38;5;241m=\u001b[39m \u001b[38;5;241m0\u001b[39m\n\u001b[1;32m    334\u001b[0m \u001b[38;5;66;03m# Reconstruct u\u001b[39;00m\n",
      "File \u001b[0;32m~/Dokumente/lazified-generalized-conditional-gradient/lgcg/lib/ssn.py:121\u001b[0m, in \u001b[0;36mSSN.solve\u001b[0;34m(self, tol, u_0)\u001b[0m\n\u001b[1;32m    119\u001b[0m     \u001b[38;5;66;03m# Global Armijo step\u001b[39;00m\n\u001b[1;32m    120\u001b[0m     d \u001b[38;5;241m=\u001b[39m \u001b[38;5;28mself\u001b[39m\u001b[38;5;241m.\u001b[39mS(\u001b[38;5;28mself\u001b[39m\u001b[38;5;241m.\u001b[39mG(u)) \u001b[38;5;241m-\u001b[39m u\n\u001b[0;32m--> 121\u001b[0m     step_size \u001b[38;5;241m=\u001b[39m \u001b[38;5;28;43mself\u001b[39;49m\u001b[38;5;241;43m.\u001b[39;49m\u001b[43marmijo\u001b[49m\u001b[43m(\u001b[49m\u001b[43mu\u001b[49m\u001b[43m,\u001b[49m\u001b[43m \u001b[49m\u001b[43md\u001b[49m\u001b[43m)\u001b[49m\n\u001b[1;32m    122\u001b[0m     u \u001b[38;5;241m=\u001b[39m u \u001b[38;5;241m+\u001b[39m step_size \u001b[38;5;241m*\u001b[39m d\n\u001b[1;32m    124\u001b[0m logging\u001b[38;5;241m.\u001b[39mdebug(\n\u001b[1;32m    125\u001b[0m     \u001b[38;5;124mf\u001b[39m\u001b[38;5;124m\"\u001b[39m\u001b[38;5;124mSSN in \u001b[39m\u001b[38;5;132;01m{\u001b[39;00m\u001b[38;5;28mlen\u001b[39m(u)\u001b[38;5;132;01m}\u001b[39;00m\u001b[38;5;124m dimensions converged in \u001b[39m\u001b[38;5;132;01m{\u001b[39;00mk\u001b[38;5;132;01m}\u001b[39;00m\u001b[38;5;124m iterations to tolerance \u001b[39m\u001b[38;5;132;01m{\u001b[39;00mtol\u001b[38;5;132;01m:\u001b[39;00m\u001b[38;5;124m.3E\u001b[39m\u001b[38;5;132;01m}\u001b[39;00m\u001b[38;5;124m\"\u001b[39m\n\u001b[1;32m    126\u001b[0m )\n",
      "File \u001b[0;32m~/Dokumente/lazified-generalized-conditional-gradient/lgcg/lib/ssn.py:73\u001b[0m, in \u001b[0;36mSSN.armijo\u001b[0;34m(self, u, d)\u001b[0m\n\u001b[1;32m     71\u001b[0m delta \u001b[38;5;241m=\u001b[39m \u001b[38;5;28mself\u001b[39m\u001b[38;5;241m.\u001b[39mdelta(u, d)\n\u001b[1;32m     72\u001b[0m step_size \u001b[38;5;241m=\u001b[39m \u001b[38;5;241m1\u001b[39m\n\u001b[0;32m---> 73\u001b[0m \u001b[38;5;28;01mwhile\u001b[39;00m \u001b[38;5;28mself\u001b[39m\u001b[38;5;241m.\u001b[39mj(u \u001b[38;5;241m+\u001b[39m step_size \u001b[38;5;241m*\u001b[39m d) \u001b[38;5;241m-\u001b[39m \u001b[38;5;28;43mself\u001b[39;49m\u001b[38;5;241;43m.\u001b[39;49m\u001b[43mj\u001b[49m\u001b[43m(\u001b[49m\u001b[43mu\u001b[49m\u001b[43m)\u001b[49m \u001b[38;5;241m>\u001b[39m step_size \u001b[38;5;241m*\u001b[39m \u001b[38;5;241m0.1\u001b[39m \u001b[38;5;241m*\u001b[39m delta:\n\u001b[1;32m     74\u001b[0m     step_size \u001b[38;5;241m*\u001b[39m\u001b[38;5;241m=\u001b[39m \u001b[38;5;28mself\u001b[39m\u001b[38;5;241m.\u001b[39mbeta\n\u001b[1;32m     75\u001b[0m \u001b[38;5;28;01mreturn\u001b[39;00m step_size\n",
      "File \u001b[0;32m~/Dokumente/lazified-generalized-conditional-gradient/lgcg/lib/ssn.py:28\u001b[0m, in \u001b[0;36mSSN.__init__.<locals>.<lambda>\u001b[0;34m(u)\u001b[0m\n\u001b[1;32m     26\u001b[0m \u001b[38;5;28mself\u001b[39m\u001b[38;5;241m.\u001b[39mp_callable \u001b[38;5;241m=\u001b[39m get_default_p(\u001b[38;5;28mself\u001b[39m\u001b[38;5;241m.\u001b[39mK, \u001b[38;5;28mself\u001b[39m\u001b[38;5;241m.\u001b[39mtarget)  \u001b[38;5;66;03m# -f'\u001b[39;00m\n\u001b[1;32m     27\u001b[0m \u001b[38;5;28mself\u001b[39m\u001b[38;5;241m.\u001b[39msecond_derivative \u001b[38;5;241m=\u001b[39m np\u001b[38;5;241m.\u001b[39mmatmul(np\u001b[38;5;241m.\u001b[39mtranspose(\u001b[38;5;28mself\u001b[39m\u001b[38;5;241m.\u001b[39mK), \u001b[38;5;28mself\u001b[39m\u001b[38;5;241m.\u001b[39mK)\n\u001b[0;32m---> 28\u001b[0m \u001b[38;5;28mself\u001b[39m\u001b[38;5;241m.\u001b[39mj \u001b[38;5;241m=\u001b[39m \u001b[38;5;28;01mlambda\u001b[39;00m u: \u001b[38;5;28mself\u001b[39m\u001b[38;5;241m.\u001b[39mf(u) \u001b[38;5;241m+\u001b[39m \u001b[38;5;28;43mself\u001b[39;49m\u001b[38;5;241;43m.\u001b[39;49m\u001b[43mg\u001b[49m\u001b[43m(\u001b[49m\u001b[43mu\u001b[49m\u001b[43m)\u001b[49m\n\u001b[1;32m     29\u001b[0m \u001b[38;5;28mself\u001b[39m\u001b[38;5;241m.\u001b[39mL \u001b[38;5;241m=\u001b[39m \u001b[38;5;241m1\u001b[39m\n\u001b[1;32m     30\u001b[0m \u001b[38;5;28mself\u001b[39m\u001b[38;5;241m.\u001b[39mnorm_K_star \u001b[38;5;241m=\u001b[39m np\u001b[38;5;241m.\u001b[39mmax(\n\u001b[1;32m     31\u001b[0m     [np\u001b[38;5;241m.\u001b[39mlinalg\u001b[38;5;241m.\u001b[39mnorm(row) \u001b[38;5;28;01mfor\u001b[39;00m row \u001b[38;5;129;01min\u001b[39;00m np\u001b[38;5;241m.\u001b[39mtranspose(\u001b[38;5;28mself\u001b[39m\u001b[38;5;241m.\u001b[39mK)]\n\u001b[1;32m     32\u001b[0m )  \u001b[38;5;66;03m# the 2,inf norm of K*\u001b[39;00m\n",
      "File \u001b[0;32m~/Dokumente/lazified-generalized-conditional-gradient/lgcg/lib/default_values.py:16\u001b[0m, in \u001b[0;36mget_default_g.<locals>.<lambda>\u001b[0;34m(u)\u001b[0m\n\u001b[1;32m     15\u001b[0m \u001b[38;5;28;01mdef\u001b[39;00m \u001b[38;5;21mget_default_g\u001b[39m(alpha: \u001b[38;5;28mfloat\u001b[39m) \u001b[38;5;241m-\u001b[39m\u001b[38;5;241m>\u001b[39m Callable:\n\u001b[0;32m---> 16\u001b[0m     \u001b[38;5;28;01mreturn\u001b[39;00m \u001b[38;5;28;01mlambda\u001b[39;00m u: alpha \u001b[38;5;241m*\u001b[39m \u001b[43mnp\u001b[49m\u001b[38;5;241;43m.\u001b[39;49m\u001b[43mlinalg\u001b[49m\u001b[38;5;241;43m.\u001b[39;49m\u001b[43mnorm\u001b[49m\u001b[43m(\u001b[49m\u001b[43mu\u001b[49m\u001b[43m,\u001b[49m\u001b[43m \u001b[49m\u001b[38;5;28;43mord\u001b[39;49m\u001b[38;5;241;43m=\u001b[39;49m\u001b[38;5;241;43m1\u001b[39;49m\u001b[43m)\u001b[49m\n",
      "File \u001b[0;32m~/miniconda3/envs/conda_env_lgcg/lib/python3.10/site-packages/numpy/linalg/linalg.py:2579\u001b[0m, in \u001b[0;36mnorm\u001b[0;34m(x, ord, axis, keepdims)\u001b[0m\n\u001b[1;32m   2576\u001b[0m     \u001b[38;5;28;01mreturn\u001b[39;00m (x \u001b[38;5;241m!=\u001b[39m \u001b[38;5;241m0\u001b[39m)\u001b[38;5;241m.\u001b[39mastype(x\u001b[38;5;241m.\u001b[39mreal\u001b[38;5;241m.\u001b[39mdtype)\u001b[38;5;241m.\u001b[39msum(axis\u001b[38;5;241m=\u001b[39maxis, keepdims\u001b[38;5;241m=\u001b[39mkeepdims)\n\u001b[1;32m   2577\u001b[0m \u001b[38;5;28;01melif\u001b[39;00m \u001b[38;5;28mord\u001b[39m \u001b[38;5;241m==\u001b[39m \u001b[38;5;241m1\u001b[39m:\n\u001b[1;32m   2578\u001b[0m     \u001b[38;5;66;03m# special case for speedup\u001b[39;00m\n\u001b[0;32m-> 2579\u001b[0m     \u001b[38;5;28;01mreturn\u001b[39;00m \u001b[43madd\u001b[49m\u001b[38;5;241;43m.\u001b[39;49m\u001b[43mreduce\u001b[49m\u001b[43m(\u001b[49m\u001b[38;5;28;43mabs\u001b[39;49m\u001b[43m(\u001b[49m\u001b[43mx\u001b[49m\u001b[43m)\u001b[49m\u001b[43m,\u001b[49m\u001b[43m \u001b[49m\u001b[43maxis\u001b[49m\u001b[38;5;241;43m=\u001b[39;49m\u001b[43maxis\u001b[49m\u001b[43m,\u001b[49m\u001b[43m \u001b[49m\u001b[43mkeepdims\u001b[49m\u001b[38;5;241;43m=\u001b[39;49m\u001b[43mkeepdims\u001b[49m\u001b[43m)\u001b[49m\n\u001b[1;32m   2580\u001b[0m \u001b[38;5;28;01melif\u001b[39;00m \u001b[38;5;28mord\u001b[39m \u001b[38;5;129;01mis\u001b[39;00m \u001b[38;5;28;01mNone\u001b[39;00m \u001b[38;5;129;01mor\u001b[39;00m \u001b[38;5;28mord\u001b[39m \u001b[38;5;241m==\u001b[39m \u001b[38;5;241m2\u001b[39m:\n\u001b[1;32m   2581\u001b[0m     \u001b[38;5;66;03m# special case for speedup\u001b[39;00m\n\u001b[1;32m   2582\u001b[0m     s \u001b[38;5;241m=\u001b[39m (x\u001b[38;5;241m.\u001b[39mconj() \u001b[38;5;241m*\u001b[39m x)\u001b[38;5;241m.\u001b[39mreal\n",
      "\u001b[0;31mKeyboardInterrupt\u001b[0m: "
     ]
    }
   ],
   "source": [
    "u, Phi_ks, objective_values = exp.solve(tol=1e-6)"
   ]
  },
  {
   "cell_type": "markdown",
   "metadata": {},
   "source": [
    "# Test Stochastic"
   ]
  },
  {
   "cell_type": "code",
   "execution_count": 3,
   "metadata": {},
   "outputs": [],
   "source": [
    "data_path = \"../../sisso/src/test/thermal_conductivity_data.csv\"\n",
    "exp = LGCG_stochastic(data_path=data_path, alpha=0.1)"
   ]
  },
  {
   "cell_type": "code",
   "execution_count": 4,
   "metadata": {},
   "outputs": [
    {
     "name": "stderr",
     "output_type": "stream",
     "text": [
      "INFO:root:---------------------\n",
      "INFO:root:---------------------\n"
     ]
    },
    {
     "name": "stdout",
     "output_type": "stream",
     "text": [
      "Time to generate feat space: 262.406 s\n"
     ]
    },
    {
     "name": "stderr",
     "output_type": "stream",
     "text": [
      "INFO:root:0.9755782288434427\n",
      "INFO:root:1\n",
      "INFO:root:K []\n",
      "INFO:root:[0.01650826 0.08398484 0.03875523 0.03877598 0.04318637 0.04194306\n",
      " 0.04804311 0.06922419 0.08354961 0.11852333 0.04570393 0.04838697\n",
      " 0.06082152 0.04974988 0.03391667 0.03654056 0.03532187 0.03515929\n",
      " 0.04248941 0.04185097 0.0362112  0.07187031 0.0379061  0.04252391\n",
      " 0.03777911 0.13475375 0.12981585 0.11154833 0.34266939 0.21564257\n",
      " 0.06654163 0.12626913 0.13974483 0.09623659 0.11400463 0.09425901\n",
      " 0.15303787 0.08798618 0.07927755 0.18412779 0.18997568 0.23295921\n",
      " 0.08915301 0.20109564 0.13541286 0.09429843 0.07918945 0.06793185\n",
      " 0.06641488 0.1338539  0.12592129 0.12139781 0.13090409 0.1034475\n",
      " 0.08834254 0.1011218  0.05419033 0.06345643 0.05942181 0.05300143\n",
      " 0.0721522  0.09091953 0.08603043 0.10407362 0.1014441  0.065165\n",
      " 0.19817434 0.27812532 0.24831032 0.06895994 0.13319063 0.11928598\n",
      " 0.08974987 0.10409334 0.06904784]\n",
      "/vol/cs-hu/hnatiuar@hu-berlin.de/Dokumente/lazified-generalized-conditional-gradient/lgcg/lgcg_stochastic.py:226: FutureWarning: elementwise comparison failed; returning scalar instead, but in the future will perform elementwise comparison\n",
      "  if x_dict[\"expression\"] in active_expressions:\n",
      "/vol/cs-hu/hnatiuar@hu-berlin.de/Dokumente/lazified-generalized-conditional-gradient/lgcg/lgcg_stochastic.py:265: FutureWarning: elementwise comparison failed; returning scalar instead, but in the future will perform elementwise comparison\n",
      "  if x_dict[\"expression\"] in active_expressions:\n",
      "INFO:root:u [-0.21889456]\n",
      "DEBUG:root:SSN in 1 dimensions converged in 1 iterations to tolerance 5.050E+00\n",
      "INFO:root:SSN found a different solution\n",
      "INFO:root:u_raw [0.30365832]\n",
      "INFO:root:[0]\n",
      "INFO:root:---------------------\n",
      "INFO:root:---------------------\n"
     ]
    },
    {
     "name": "stdout",
     "output_type": "stream",
     "text": [
      "Time to generate feat space: 262.994 s\n"
     ]
    },
    {
     "name": "stderr",
     "output_type": "stream",
     "text": [
      "INFO:root:0.9539958314747843\n",
      "INFO:root:1\n",
      "INFO:root:['((omega_Gamma_max / sigma_os) / (Theta_p * L_min_prim))']\n",
      "INFO:root:2: Phi 3.106E+00, epsilon 6.361E+00, support 1, Psi 5.050E+00\n",
      "INFO:root:K [[0.01650826 0.08398484 0.03875523 0.03877598 0.04318637 0.04194306\n",
      "  0.04804311 0.06922419 0.08354961 0.11852333 0.04570393 0.04838697\n",
      "  0.06082152 0.04974988 0.03391667 0.03654056 0.03532187 0.03515929\n",
      "  0.04248941 0.04185097 0.0362112  0.07187031 0.0379061  0.04252391\n",
      "  0.03777911 0.13475375 0.12981585 0.11154833 0.34266939 0.21564257\n",
      "  0.06654163 0.12626913 0.13974483 0.09623659 0.11400463 0.09425901\n",
      "  0.15303787 0.08798618 0.07927755 0.18412779 0.18997568 0.23295921\n",
      "  0.08915301 0.20109564 0.13541286 0.09429843 0.07918945 0.06793185\n",
      "  0.06641488 0.1338539  0.12592129 0.12139781 0.13090409 0.1034475\n",
      "  0.08834254 0.1011218  0.05419033 0.06345643 0.05942181 0.05300143\n",
      "  0.0721522  0.09091953 0.08603043 0.10407362 0.1014441  0.065165\n",
      "  0.19817434 0.27812532 0.24831032 0.06895994 0.13319063 0.11928598\n",
      "  0.08974987 0.10409334 0.06904784]]\n",
      "INFO:root:[0.03025723 0.08622215 0.06749971 0.07652336 0.07095505 0.06954595\n",
      " 0.08132073 0.07232291 0.14020944 0.09611855 0.06798253 0.07317839\n",
      " 0.07228934 0.06966046 0.04045889 0.0307534  0.03337375 0.05491006\n",
      " 0.06627846 0.06319881 0.05495144 0.07632915 0.04693996 0.05943613\n",
      " 0.04475115 0.15704633 0.17993819 0.1644496  0.22725957 0.20608784\n",
      " 0.08593585 0.11734913 0.12356526 0.10749054 0.14297693 0.10251115\n",
      " 0.20692737 0.11139006 0.09348372 0.18575689 0.17461764 0.21471522\n",
      " 0.1377771  0.18832448 0.15070341 0.10421752 0.09561752 0.10241551\n",
      " 0.09107297 0.08017121 0.07872202 0.08463187 0.07692514 0.15012624\n",
      " 0.06153398 0.09581779 0.08713188 0.07163004 0.07886835 0.05917368\n",
      " 0.06851747 0.09612798 0.08980283 0.0988016  0.10332324 0.07041129\n",
      " 0.21370455 0.18817734 0.2283877  0.08336484 0.1469547  0.11251109\n",
      " 0.09234312 0.08661614 0.09600518]\n",
      "INFO:root:u [ 0.29422563 -0.15531759]\n",
      "DEBUG:root:SSN in 2 dimensions converged in 0 iterations to tolerance 5.050E+00\n",
      "INFO:root:SSN found a different solution\n",
      "INFO:root:u_raw [ 0.29422563 -0.15531759]\n",
      "INFO:root:[0 1]\n",
      "INFO:root:---------------------\n"
     ]
    }
   ],
   "source": [
    "exp.solve(tol=1e-7)"
   ]
  },
  {
   "cell_type": "code",
   "execution_count": null,
   "metadata": {},
   "outputs": [],
   "source": []
  }
 ],
 "metadata": {
  "kernelspec": {
   "display_name": "conda_env_lgcg",
   "language": "python",
   "name": "python3"
  },
  "language_info": {
   "codemirror_mode": {
    "name": "ipython",
    "version": 3
   },
   "file_extension": ".py",
   "mimetype": "text/x-python",
   "name": "python",
   "nbconvert_exporter": "python",
   "pygments_lexer": "ipython3",
   "version": "3.10.13"
  }
 },
 "nbformat": 4,
 "nbformat_minor": 2
}

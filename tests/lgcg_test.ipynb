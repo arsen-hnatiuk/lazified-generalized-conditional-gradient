{
 "cells": [
  {
   "cell_type": "code",
   "execution_count": 12,
   "metadata": {},
   "outputs": [],
   "source": [
    "import numpy as np\n",
    "import os\n",
    "import sys\n",
    "module_path = os.path.abspath(os.path.join('..'))\n",
    "if module_path not in sys.path:\n",
    "    sys.path.append(module_path)\n",
    "lgcg_path = os.path.abspath(os.path.join('../lgcg'))\n",
    "if lgcg_path not in sys.path:\n",
    "    sys.path.append(lgcg_path)\n",
    "from lib.measure import Measure"
   ]
  },
  {
   "cell_type": "markdown",
   "metadata": {},
   "source": [
    "# Generate Data"
   ]
  },
  {
   "cell_type": "code",
   "execution_count": 2,
   "metadata": {},
   "outputs": [],
   "source": [
    "Omega = np.array([[0,1],[0,1]])\n",
    "observation_resolution = 5\n",
    "observations = (np.array(np.meshgrid(\n",
    "                    *(\n",
    "                        np.linspace(bound[0], bound[1], observation_resolution)\n",
    "                        for bound in Omega\n",
    "                    ))\n",
    "            ).reshape(len(Omega), -1).T)\n",
    "std_factor = 0.5\n",
    "k = lambda x: np.array([np.exp(-np.linalg.norm(point-x)**2/std_factor)/np.sqrt(std_factor*np.pi)**Omega.shape[0] for point in observations])\n",
    "true_sources = np.array([[0.1,0.3], [0.25,0.8], [0.7,0.5]])\n",
    "true_weights = np.array([5,-3,7])\n",
    "target = sum([weight*k(source) for weight, source in zip(true_weights, true_sources)])\n",
    "norm_K_star = np.sqrt(len(observations)/(std_factor*np.pi))\n",
    "norm_K_star_L = 2*np.sqrt(len(observations)*Omega.shape[0]/(np.pi*std_factor**3))/std_factor"
   ]
  },
  {
   "cell_type": "code",
   "execution_count": 13,
   "metadata": {},
   "outputs": [],
   "source": [
    "def p_raw(u, k, target):\n",
    "    def p_u(x):\n",
    "        Ku = sum(k(x)*c for c, x in zip(u.coefficients, u.support))\n",
    "        inner = Ku-target\n",
    "        return -np.dot(inner, k(x))\n",
    "    return p_u\n",
    "\n",
    "p = lambda u: p_raw(u, k=k, target=target)"
   ]
  },
  {
   "cell_type": "code",
   "execution_count": 20,
   "metadata": {},
   "outputs": [],
   "source": [
    "def grad_P_raw(k, target, observations, std_factor):\n",
    "    def grad_P(u, x):\n",
    "        def p_u(x):\n",
    "            Ku = sum(k(x)*c for c, x in zip(u.coefficients, u.support))\n",
    "            inner = Ku-target\n",
    "            return -np.dot(inner, k(x))\n",
    "        Ku = sum(k(x)*c for c, x in zip(u.coefficients, u.support))\n",
    "        inner = Ku-target\n",
    "        second_inner = k(x)*2/std_factor\n",
    "        vector_part = sum([inr*second_inr*(obs-x) for inr, second_inr, obs in zip(inner, second_inner, observations)])\n",
    "        return -np.sign(p_u(x))*vector_part\n",
    "    return grad_P\n",
    "\n",
    "grad_P = grad_P_raw(k, target, observations, std_factor)"
   ]
  },
  {
   "cell_type": "code",
   "execution_count": 3,
   "metadata": {},
   "outputs": [],
   "source": [
    "def grad_k_raw(observations, std_factor):\n",
    "    def grad_k(x):\n",
    "        return np.array([2*(point-x)*np.exp(-np.linalg.norm(point-x)**2/std_factor)/(std_factor*np.sqrt(std_factor*np.pi)**Omega.shape[0]) for point in observations])\n",
    "    return grad_k\n",
    "\n",
    "grad_k = grad_k_raw(observations, std_factor) # The Jacobian of k, shape=(len(observations), Omega.shape[0])"
   ]
  },
  {
   "cell_type": "code",
   "execution_count": 8,
   "metadata": {},
   "outputs": [],
   "source": [
    "def hess_k_raw(observations, std_factor):\n",
    "    def hess_k(x):\n",
    "        first_part = lambda point: -2*np.eye(Omega.shape[0])*np.exp(-np.linalg.norm(point-x)**2/std_factor)/(std_factor*np.sqrt(std_factor*np.pi)**Omega.shape[0])\n",
    "        second_part = lambda point: 4*np.dot((point-x).reshape(-1,1), np.array([point-x]))*np.exp(-np.linalg.norm(point-x)**2/std_factor)/(std_factor**2*np.sqrt(std_factor*np.pi)**Omega.shape[0])\n",
    "        return np.array([first_part(point)+second_part(point) for point in observations])\n",
    "    return hess_k\n",
    "\n",
    "hess_k = hess_k_raw(observations, std_factor) # The derivative of the Jacobian of k, shape=(len(observations), Omega.shape[0], Omega.shape[0])"
   ]
  },
  {
   "cell_type": "code",
   "execution_count": 32,
   "metadata": {},
   "outputs": [],
   "source": [
    "def grad_P_raw(k, target, observations, std_factor):\n",
    "    grad_k = grad_k_raw(observations, std_factor)\n",
    "    def grad_P(x,u):\n",
    "        p_u = p_raw(u, k, target)\n",
    "        inner = target-sum(k(x)*c for c, x in zip(u.coefficients, u.support))\n",
    "        return np.sign(p_u(x))*np.matmul(grad_k(x).T, inner)\n",
    "    return grad_P\n",
    "\n",
    "grad_P = grad_P_raw(k, target, observations, std_factor)"
   ]
  },
  {
   "cell_type": "code",
   "execution_count": 33,
   "metadata": {},
   "outputs": [],
   "source": [
    "def hess_P_raw(k, target, observations, std_factor):\n",
    "    hess_k = hess_k_raw(observations, std_factor)\n",
    "    def hess_P(x,u):\n",
    "        p_u = p_raw(u, k, target)\n",
    "        inner = target-sum(k(x)*c for c, x in zip(u.coefficients, u.support))\n",
    "        return np.sign(p_u(x))*np.tensordot(hess_k(x),inner,axes=([0,0]))\n",
    "    return hess_P\n",
    "\n",
    "hess_P = hess_P_raw(k, target, observations, std_factor)"
   ]
  },
  {
   "cell_type": "code",
   "execution_count": 30,
   "metadata": {},
   "outputs": [
    {
     "data": {
      "text/plain": [
       "array([3.15191494, 3.81351948, 3.95712709, 3.50943456, 2.61142507,\n",
       "       3.66011727, 4.6079549 , 5.00984175, 4.64102819, 3.57307225,\n",
       "       3.14489828, 4.18610067, 4.83961186, 4.72874385, 3.78584505,\n",
       "       1.87996289, 2.75232252, 3.49495837, 3.67245274, 3.08807258,\n",
       "       0.62956544, 1.18183781, 1.80673047, 2.13326966, 1.92170735])"
      ]
     },
     "execution_count": 30,
     "metadata": {},
     "output_type": "execute_result"
    }
   ],
   "source": [
    "target"
   ]
  },
  {
   "cell_type": "code",
   "execution_count": 22,
   "metadata": {},
   "outputs": [
    {
     "data": {
      "text/plain": [
       "array([[0.  , 0.  ],\n",
       "       [0.25, 0.  ],\n",
       "       [0.5 , 0.  ],\n",
       "       [0.75, 0.  ],\n",
       "       [1.  , 0.  ],\n",
       "       [0.  , 0.25],\n",
       "       [0.25, 0.25],\n",
       "       [0.5 , 0.25],\n",
       "       [0.75, 0.25],\n",
       "       [1.  , 0.25],\n",
       "       [0.  , 0.5 ],\n",
       "       [0.25, 0.5 ],\n",
       "       [0.5 , 0.5 ],\n",
       "       [0.75, 0.5 ],\n",
       "       [1.  , 0.5 ],\n",
       "       [0.  , 0.75],\n",
       "       [0.25, 0.75],\n",
       "       [0.5 , 0.75],\n",
       "       [0.75, 0.75],\n",
       "       [1.  , 0.75],\n",
       "       [0.  , 1.  ],\n",
       "       [0.25, 1.  ],\n",
       "       [0.5 , 1.  ],\n",
       "       [0.75, 1.  ],\n",
       "       [1.  , 1.  ]])"
      ]
     },
     "execution_count": 22,
     "metadata": {},
     "output_type": "execute_result"
    }
   ],
   "source": [
    "observations"
   ]
  },
  {
   "cell_type": "code",
   "execution_count": 34,
   "metadata": {},
   "outputs": [
    {
     "data": {
      "text/plain": [
       "array([26.73401091, 20.74271496])"
      ]
     },
     "execution_count": 34,
     "metadata": {},
     "output_type": "execute_result"
    }
   ],
   "source": [
    "grad_P(np.array([0.1,0.1]), Measure())"
   ]
  },
  {
   "cell_type": "code",
   "execution_count": 35,
   "metadata": {},
   "outputs": [
    {
     "data": {
      "text/plain": [
       "array([[-38.93010246,  24.30044838],\n",
       "       [ 24.30044838, -56.66942886]])"
      ]
     },
     "execution_count": 35,
     "metadata": {},
     "output_type": "execute_result"
    }
   ],
   "source": [
    "hess_P(np.array([0.1,0.1]), Measure())"
   ]
  },
  {
   "cell_type": "markdown",
   "metadata": {},
   "source": [
    "# Test Stochastic"
   ]
  },
  {
   "cell_type": "code",
   "execution_count": 2,
   "metadata": {},
   "outputs": [],
   "source": [
    "from lgcg_stochastic import LGCG_stochastic"
   ]
  },
  {
   "cell_type": "code",
   "execution_count": 3,
   "metadata": {},
   "outputs": [],
   "source": [
    "data_path = \"../../sisso/src/test/thermal_conductivity_data.csv\"\n",
    "exp = LGCG_stochastic(data_path=data_path, alpha=0.1)"
   ]
  },
  {
   "cell_type": "code",
   "execution_count": 4,
   "metadata": {},
   "outputs": [
    {
     "name": "stderr",
     "output_type": "stream",
     "text": [
      "INFO:root:---------------------\n",
      "INFO:root:---------------------\n"
     ]
    },
    {
     "name": "stdout",
     "output_type": "stream",
     "text": [
      "Time to generate feat space: 262.406 s\n"
     ]
    },
    {
     "name": "stderr",
     "output_type": "stream",
     "text": [
      "INFO:root:0.9755782288434427\n",
      "INFO:root:1\n",
      "INFO:root:K []\n",
      "INFO:root:[0.01650826 0.08398484 0.03875523 0.03877598 0.04318637 0.04194306\n",
      " 0.04804311 0.06922419 0.08354961 0.11852333 0.04570393 0.04838697\n",
      " 0.06082152 0.04974988 0.03391667 0.03654056 0.03532187 0.03515929\n",
      " 0.04248941 0.04185097 0.0362112  0.07187031 0.0379061  0.04252391\n",
      " 0.03777911 0.13475375 0.12981585 0.11154833 0.34266939 0.21564257\n",
      " 0.06654163 0.12626913 0.13974483 0.09623659 0.11400463 0.09425901\n",
      " 0.15303787 0.08798618 0.07927755 0.18412779 0.18997568 0.23295921\n",
      " 0.08915301 0.20109564 0.13541286 0.09429843 0.07918945 0.06793185\n",
      " 0.06641488 0.1338539  0.12592129 0.12139781 0.13090409 0.1034475\n",
      " 0.08834254 0.1011218  0.05419033 0.06345643 0.05942181 0.05300143\n",
      " 0.0721522  0.09091953 0.08603043 0.10407362 0.1014441  0.065165\n",
      " 0.19817434 0.27812532 0.24831032 0.06895994 0.13319063 0.11928598\n",
      " 0.08974987 0.10409334 0.06904784]\n",
      "/vol/cs-hu/hnatiuar@hu-berlin.de/Dokumente/lazified-generalized-conditional-gradient/lgcg/lgcg_stochastic.py:226: FutureWarning: elementwise comparison failed; returning scalar instead, but in the future will perform elementwise comparison\n",
      "  if x_dict[\"expression\"] in active_expressions:\n",
      "/vol/cs-hu/hnatiuar@hu-berlin.de/Dokumente/lazified-generalized-conditional-gradient/lgcg/lgcg_stochastic.py:265: FutureWarning: elementwise comparison failed; returning scalar instead, but in the future will perform elementwise comparison\n",
      "  if x_dict[\"expression\"] in active_expressions:\n",
      "INFO:root:u [-0.21889456]\n",
      "DEBUG:root:SSN in 1 dimensions converged in 1 iterations to tolerance 5.050E+00\n",
      "INFO:root:SSN found a different solution\n",
      "INFO:root:u_raw [0.30365832]\n",
      "INFO:root:[0]\n",
      "INFO:root:---------------------\n",
      "INFO:root:---------------------\n"
     ]
    },
    {
     "name": "stdout",
     "output_type": "stream",
     "text": [
      "Time to generate feat space: 262.994 s\n"
     ]
    },
    {
     "name": "stderr",
     "output_type": "stream",
     "text": [
      "INFO:root:0.9539958314747843\n",
      "INFO:root:1\n",
      "INFO:root:['((omega_Gamma_max / sigma_os) / (Theta_p * L_min_prim))']\n",
      "INFO:root:2: Phi 3.106E+00, epsilon 6.361E+00, support 1, Psi 5.050E+00\n",
      "INFO:root:K [[0.01650826 0.08398484 0.03875523 0.03877598 0.04318637 0.04194306\n",
      "  0.04804311 0.06922419 0.08354961 0.11852333 0.04570393 0.04838697\n",
      "  0.06082152 0.04974988 0.03391667 0.03654056 0.03532187 0.03515929\n",
      "  0.04248941 0.04185097 0.0362112  0.07187031 0.0379061  0.04252391\n",
      "  0.03777911 0.13475375 0.12981585 0.11154833 0.34266939 0.21564257\n",
      "  0.06654163 0.12626913 0.13974483 0.09623659 0.11400463 0.09425901\n",
      "  0.15303787 0.08798618 0.07927755 0.18412779 0.18997568 0.23295921\n",
      "  0.08915301 0.20109564 0.13541286 0.09429843 0.07918945 0.06793185\n",
      "  0.06641488 0.1338539  0.12592129 0.12139781 0.13090409 0.1034475\n",
      "  0.08834254 0.1011218  0.05419033 0.06345643 0.05942181 0.05300143\n",
      "  0.0721522  0.09091953 0.08603043 0.10407362 0.1014441  0.065165\n",
      "  0.19817434 0.27812532 0.24831032 0.06895994 0.13319063 0.11928598\n",
      "  0.08974987 0.10409334 0.06904784]]\n",
      "INFO:root:[0.03025723 0.08622215 0.06749971 0.07652336 0.07095505 0.06954595\n",
      " 0.08132073 0.07232291 0.14020944 0.09611855 0.06798253 0.07317839\n",
      " 0.07228934 0.06966046 0.04045889 0.0307534  0.03337375 0.05491006\n",
      " 0.06627846 0.06319881 0.05495144 0.07632915 0.04693996 0.05943613\n",
      " 0.04475115 0.15704633 0.17993819 0.1644496  0.22725957 0.20608784\n",
      " 0.08593585 0.11734913 0.12356526 0.10749054 0.14297693 0.10251115\n",
      " 0.20692737 0.11139006 0.09348372 0.18575689 0.17461764 0.21471522\n",
      " 0.1377771  0.18832448 0.15070341 0.10421752 0.09561752 0.10241551\n",
      " 0.09107297 0.08017121 0.07872202 0.08463187 0.07692514 0.15012624\n",
      " 0.06153398 0.09581779 0.08713188 0.07163004 0.07886835 0.05917368\n",
      " 0.06851747 0.09612798 0.08980283 0.0988016  0.10332324 0.07041129\n",
      " 0.21370455 0.18817734 0.2283877  0.08336484 0.1469547  0.11251109\n",
      " 0.09234312 0.08661614 0.09600518]\n",
      "INFO:root:u [ 0.29422563 -0.15531759]\n",
      "DEBUG:root:SSN in 2 dimensions converged in 0 iterations to tolerance 5.050E+00\n",
      "INFO:root:SSN found a different solution\n",
      "INFO:root:u_raw [ 0.29422563 -0.15531759]\n",
      "INFO:root:[0 1]\n",
      "INFO:root:---------------------\n"
     ]
    }
   ],
   "source": [
    "exp.solve(tol=1e-7)"
   ]
  },
  {
   "cell_type": "code",
   "execution_count": null,
   "metadata": {},
   "outputs": [],
   "source": []
  }
 ],
 "metadata": {
  "kernelspec": {
   "display_name": "conda_env_lgcg",
   "language": "python",
   "name": "python3"
  },
  "language_info": {
   "codemirror_mode": {
    "name": "ipython",
    "version": 3
   },
   "file_extension": ".py",
   "mimetype": "text/x-python",
   "name": "python",
   "nbconvert_exporter": "python",
   "pygments_lexer": "ipython3",
   "version": "3.9.19"
  }
 },
 "nbformat": 4,
 "nbformat_minor": 2
}
